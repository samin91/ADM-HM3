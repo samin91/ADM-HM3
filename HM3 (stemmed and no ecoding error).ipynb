{
 "cells": [
  {
   "cell_type": "code",
   "execution_count": 2,
   "metadata": {},
   "outputs": [],
   "source": [
    "file = open(\"Airbnb_Texas_Rentals.csv\",encoding=\"utf8\")\n",
    "lines = file.readlines()[1:10]\n",
    "for line in lines:\n",
    "    cols = line.replace('\"', '').replace('\\t', ' ').split(',')\n",
    "    record = \"\\t\".join(cols[1:])\n",
    "    with open('doc\\doc_{}.tsv'.format(cols[0]), 'w',encoding=\"utf8\") as file:\n",
    "            file.write(record)"
   ]
  },
  {
   "cell_type": "code",
   "execution_count": 3,
   "metadata": {},
   "outputs": [],
   "source": [
    "from os import listdir\n",
    "from os.path import isfile, join\n",
    "docpaths = [f for f in listdir(\"doc\") if isfile(join(\"doc\", f))]\n"
   ]
  },
  {
   "cell_type": "code",
   "execution_count": 10,
   "metadata": {},
   "outputs": [],
   "source": [
    "def save_dict_to_file(dic, file):\n",
    "    f = open('{}.txt'.format(file), 'w',encoding=\"utf8\")\n",
    "    f.write(str(dic))\n",
    "    f.close()"
   ]
  },
  {
   "cell_type": "code",
   "execution_count": 11,
   "metadata": {},
   "outputs": [],
   "source": [
    "import nltk\n",
    "vocabulary = {}\n",
    "inverted_index = {}\n",
    "indexOfWord = 0\n",
    "for doc in docpaths:\n",
    "    with open('doc\\{}'.format(doc), 'r',encoding=\"utf8\") as file:\n",
    "        lines = file.readlines()\n",
    "        if len(lines) > 0 :\n",
    "            document = lines[0]\n",
    "            cols = document.replace('\\\\n',' ').split('\\t')[:-1]\n",
    "            document = '\\t'.join(cols)\n",
    "            tokens = nltk.word_tokenize(document)\n",
    "            filtered_words = [nltk.stem.PorterStemmer().stem(word) for word in tokens if word not in nltk.corpus.stopwords.words('english') and word not in \".,'()$\"]\n",
    "            for w in filtered_words:\n",
    "                if w not in vocabulary:\n",
    "                    indexOfWord += 1\n",
    "                    vocabulary[w] = indexOfWord\n",
    "                if vocabulary[w] not in inverted_index:\n",
    "                    temp = []\n",
    "                    temp.append(doc)\n",
    "                    inverted_index[vocabulary[w]] = temp\n",
    "                elif doc not in inverted_index[vocabulary[w]]:\n",
    "                    inverted_index[vocabulary[w]].append(doc)\n",
    "                    \n",
    "save_dict_to_file(inverted_index,\"inverted_index\")\n",
    "save_dict_to_file(vocabulary,\"vocabulary\")"
   ]
  },
  {
   "cell_type": "code",
   "execution_count": 12,
   "metadata": {},
   "outputs": [
    {
     "name": "stdout",
     "output_type": "stream",
     "text": [
      "{'27': 1, '2': 2, 'humbl': 3, 'may': 4, '2016': 5, 'welcom': 6, 'stay': 7, 'privat': 8, 'room': 9, 'queen': 10, 'bed': 11, 'detach': 12, 'bathroom': 13, 'second': 14, 'floor': 15, 'anoth': 16, 'bedroom': 17, 'sofa': 18, 'avail': 19, 'addit': 20, 'guest': 21, '10': 22, '10min': 23, 'iah': 24, 'airport': 25, 'pick-up/drop': 26, '10/trip': 27, '30.0201379199512': 28, '-95.2939960042513': 29, 'rooms/bathroom': 30, '149': 31, '4': 32, 'san': 33, 'antonio': 34, 'novemb': 35, '2010': 36, 'stylish': 37, 'fulli': 38, 'remodel': 39, 'home': 40, 'upscal': 41, 'NW': 42, '–': 43, 'alamo': 44, 'height': 45, 'area': 46, 'amaz': 47, 'locat': 48, '-': 49, 'hous': 50, 'conveni': 51, 'quiet': 52, 'street': 53, 'beauti': 54, 'season': 55, 'tree': 56, 'prestigi': 57, 'neighborhood': 58, 'close': 59, '281': 60, '410': 61, 'loop': 62, 'down-town': 63, 'featur': 64, 'open': 65, 'plan': 66, 'origin': 67, 'hardwood': 68, '3': 69, 'full': 70, '+': 71, 'independ': 72, 'garden-tv': 73, 'sleep': 74, 'european': 75, 'inspir': 76, 'kitchen': 77, '“': 78, 'top': 79, 'line': 80, '”': 81, 'decor': 82, 'driveway': 83, 'park': 84, 'car': 85, '29.5030676756061': 86, '-98.4476879378504': 87, 'uniqu': 88, '!': 89, 'design': 90, '59': 91, '1': 92, 'houston': 93, 'januari': 94, '2017': 95, \"'river\": 96, 'island': 97, 'citi': 98, 'A': 99, 'well': 100, 'maintain': 101, 'river': 102, 'jacinto': 103, 'extra': 104, 'temporari': 105, 'visitor': 106, '29.8293522272149': 107, '-95.0815494887563': 108, 'near': 109, '60': 110, 'bryan': 111, 'februari': 112, 'cute': 113, 'littl': 114, 'situat': 115, 'covet': 116, 'garden': 117, 'acr': 118, 'the': 119, 'access': 120, '30.6373042787676': 121, '-96.3378459729631': 122, 'campu': 123, '75': 124, 'fort': 125, 'worth': 126, '1920': 127, \"'s\": 128, 'We': 129, 'recent': 130, 'purchas': 131, '1922': 132, 'mile': 133, 'outsid': 134, 'downtown': 135, 'happi': 136, 'restor': 137, 'charact': 138, 'built': 139, 'you': 140, \"'re\": 141, '5': 142, 'minut': 143, 'drive': 144, 'offer': 145, 'across': 146, 'current': 147, 'rejuven': 148, 'gateway': 149, '32.7470973543511': 150, '-97.2864343970125': 151, 'porch': 152, '250': 153, 'conro': 154, 'august': 155, 'My': 156, 'place': 157, 'lake': 158, 'family-friendli': 159, 'activ': 160, 'nightlif': 161, '’': 162, 'love': 163, 'outdoor': 164, 'space': 165, 'good': 166, 'coupl': 167, 'solo': 168, 'adventur': 169, 'busi': 170, 'travel': 171, 'famili': 172, 'kid': 173, 'big': 174, 'group': 175, '30.370455202614': 176, '-95.3853190358678': 177, 'gorgeou': 178, 'countri': 179, 'set': 180, '129': 181, 'cedar': 182, 'creek': 183, 'march': 184, 'rustic': 185, 'retreat': 186, '8': 187, 'southeast': 188, 'austin': 189, 'convert': 190, 'modular': 191, 'amen': 192, 'need': 193, 'texa': 194, 'experi': 195, 'less': 196, '15': 197, 'circuit': 198, 'america': 199, 'cota': 200, 'formula': 201, 'one': 202, 'trailer': 203, '30.109838308143': 204, '-97.4734169128682': 205, 'cozi': 206, 'quaint': 207, 'acreag': 208, '25': 209, 'thi': 210, 'size': 211, 'closet': 212, 'pet': 213, 'alway': 214, 'clean': 215, 'share': 216, 'suppli': 217, 'towel': 218, 'shampoo': 219, 'tcu': 220, 'tcc': 221, 'stockyard': 222, '32.6896114095237': 223, '-97.298160860565': 224, 'friendli': 225, 'َquiet': 226, '345': 227, 'rockport': 228, 'first': 229, 'class': 230, 'comfort': 231, 'condo': 232, 'best': 233, 'view': 234, 'bottom': 235, 'deck': 236, 'master': 237, 'patio.\\\\r': 238, 'pier': 239, 'step': 240, 'away': 241, 'patio': 242, '28.1037257224157': 243, '-97.025832094037': 244, '608': 245, 'bayfront': 246}\n"
     ]
    }
   ],
   "source": [
    "print(vocabulary)"
   ]
  },
  {
   "cell_type": "code",
   "execution_count": 13,
   "metadata": {},
   "outputs": [
    {
     "name": "stdout",
     "output_type": "stream",
     "text": [
      "{1: ['doc_1.tsv'], 2: ['doc_1.tsv', 'doc_2.tsv', 'doc_5.tsv'], 3: ['doc_1.tsv'], 4: ['doc_1.tsv'], 5: ['doc_1.tsv', 'doc_4.tsv', 'doc_6.tsv', 'doc_7.tsv', 'doc_8.tsv', 'doc_9.tsv'], 6: ['doc_1.tsv', 'doc_5.tsv'], 7: ['doc_1.tsv'], 8: ['doc_1.tsv', 'doc_4.tsv', 'doc_8.tsv'], 9: ['doc_1.tsv', 'doc_2.tsv', 'doc_3.tsv', 'doc_4.tsv', 'doc_8.tsv'], 10: ['doc_1.tsv', 'doc_8.tsv'], 11: ['doc_1.tsv', 'doc_8.tsv'], 12: ['doc_1.tsv'], 13: ['doc_1.tsv', 'doc_2.tsv', 'doc_4.tsv', 'doc_8.tsv'], 14: ['doc_1.tsv'], 15: ['doc_1.tsv', 'doc_2.tsv'], 16: ['doc_1.tsv'], 17: ['doc_1.tsv', 'doc_2.tsv', 'doc_4.tsv', 'doc_8.tsv', 'doc_9.tsv'], 18: ['doc_1.tsv'], 19: ['doc_1.tsv', 'doc_7.tsv', 'doc_8.tsv'], 20: ['doc_1.tsv'], 21: ['doc_1.tsv'], 22: ['doc_1.tsv'], 23: ['doc_1.tsv'], 24: ['doc_1.tsv'], 25: ['doc_1.tsv', 'doc_2.tsv', 'doc_7.tsv'], 26: ['doc_1.tsv'], 27: ['doc_1.tsv'], 28: ['doc_1.tsv'], 29: ['doc_1.tsv'], 30: ['doc_1.tsv'], 31: ['doc_2.tsv'], 32: ['doc_2.tsv', 'doc_6.tsv'], 33: ['doc_2.tsv', 'doc_3.tsv'], 34: ['doc_2.tsv'], 35: ['doc_2.tsv'], 36: ['doc_2.tsv'], 37: ['doc_2.tsv'], 38: ['doc_2.tsv'], 39: ['doc_2.tsv'], 40: ['doc_2.tsv', 'doc_4.tsv', 'doc_5.tsv', 'doc_6.tsv', 'doc_7.tsv'], 41: ['doc_2.tsv'], 42: ['doc_2.tsv'], 43: ['doc_2.tsv'], 44: ['doc_2.tsv'], 45: ['doc_2.tsv'], 46: ['doc_2.tsv'], 47: ['doc_2.tsv'], 48: ['doc_2.tsv'], 49: ['doc_2.tsv', 'doc_9.tsv'], 50: ['doc_2.tsv', 'doc_3.tsv', 'doc_8.tsv'], 51: ['doc_2.tsv'], 52: ['doc_2.tsv'], 53: ['doc_2.tsv', 'doc_5.tsv'], 54: ['doc_2.tsv', 'doc_8.tsv'], 55: ['doc_2.tsv'], 56: ['doc_2.tsv'], 57: ['doc_2.tsv'], 58: ['doc_2.tsv', 'doc_4.tsv', 'doc_6.tsv', 'doc_8.tsv'], 59: ['doc_2.tsv', 'doc_3.tsv', 'doc_4.tsv', 'doc_6.tsv'], 60: ['doc_2.tsv'], 61: ['doc_2.tsv'], 62: ['doc_2.tsv'], 63: ['doc_2.tsv'], 64: ['doc_2.tsv'], 65: ['doc_2.tsv'], 66: ['doc_2.tsv'], 67: ['doc_2.tsv', 'doc_5.tsv'], 68: ['doc_2.tsv'], 69: ['doc_2.tsv', 'doc_7.tsv', 'doc_9.tsv'], 70: ['doc_2.tsv'], 71: ['doc_2.tsv'], 72: ['doc_2.tsv'], 73: ['doc_2.tsv'], 74: ['doc_2.tsv'], 75: ['doc_2.tsv'], 76: ['doc_2.tsv'], 77: ['doc_2.tsv'], 78: ['doc_2.tsv'], 79: ['doc_2.tsv'], 80: ['doc_2.tsv'], 81: ['doc_2.tsv'], 82: ['doc_2.tsv'], 83: ['doc_2.tsv'], 84: ['doc_2.tsv', 'doc_5.tsv', 'doc_7.tsv'], 85: ['doc_2.tsv'], 86: ['doc_2.tsv'], 87: ['doc_2.tsv'], 88: ['doc_2.tsv'], 89: ['doc_2.tsv'], 90: ['doc_2.tsv'], 91: ['doc_3.tsv'], 92: ['doc_3.tsv', 'doc_4.tsv', 'doc_8.tsv'], 93: ['doc_3.tsv'], 94: ['doc_3.tsv', 'doc_8.tsv'], 95: ['doc_3.tsv', 'doc_5.tsv'], 96: ['doc_3.tsv'], 97: ['doc_3.tsv'], 98: ['doc_3.tsv'], 99: ['doc_3.tsv'], 100: ['doc_3.tsv'], 101: ['doc_3.tsv'], 102: ['doc_3.tsv'], 103: ['doc_3.tsv'], 104: ['doc_3.tsv'], 105: ['doc_3.tsv'], 106: ['doc_3.tsv'], 107: ['doc_3.tsv'], 108: ['doc_3.tsv'], 109: ['doc_3.tsv'], 110: ['doc_4.tsv'], 111: ['doc_4.tsv'], 112: ['doc_4.tsv', 'doc_5.tsv', 'doc_9.tsv'], 113: ['doc_4.tsv'], 114: ['doc_4.tsv'], 115: ['doc_4.tsv'], 116: ['doc_4.tsv'], 117: ['doc_4.tsv'], 118: ['doc_4.tsv', 'doc_7.tsv'], 119: ['doc_4.tsv', 'doc_5.tsv', 'doc_8.tsv'], 120: ['doc_4.tsv'], 121: ['doc_4.tsv'], 122: ['doc_4.tsv'], 123: ['doc_4.tsv'], 124: ['doc_5.tsv'], 125: ['doc_5.tsv', 'doc_8.tsv'], 126: ['doc_5.tsv', 'doc_8.tsv'], 127: ['doc_5.tsv'], 128: ['doc_5.tsv'], 129: ['doc_5.tsv', 'doc_8.tsv'], 130: ['doc_5.tsv'], 131: ['doc_5.tsv'], 132: ['doc_5.tsv'], 133: ['doc_5.tsv', 'doc_7.tsv', 'doc_8.tsv'], 134: ['doc_5.tsv'], 135: ['doc_5.tsv', 'doc_8.tsv'], 136: ['doc_5.tsv'], 137: ['doc_5.tsv'], 138: ['doc_5.tsv'], 139: ['doc_5.tsv'], 140: ['doc_5.tsv', 'doc_6.tsv'], 141: ['doc_5.tsv'], 142: ['doc_5.tsv'], 143: ['doc_5.tsv'], 144: ['doc_5.tsv'], 145: ['doc_5.tsv', 'doc_7.tsv'], 146: ['doc_5.tsv'], 147: ['doc_5.tsv'], 148: ['doc_5.tsv'], 149: ['doc_5.tsv'], 150: ['doc_5.tsv'], 151: ['doc_5.tsv'], 152: ['doc_5.tsv'], 153: ['doc_6.tsv'], 154: ['doc_6.tsv'], 155: ['doc_6.tsv'], 156: ['doc_6.tsv'], 157: ['doc_6.tsv'], 158: ['doc_6.tsv'], 159: ['doc_6.tsv'], 160: ['doc_6.tsv'], 161: ['doc_6.tsv'], 162: ['doc_6.tsv'], 163: ['doc_6.tsv'], 164: ['doc_6.tsv'], 165: ['doc_6.tsv'], 166: ['doc_6.tsv'], 167: ['doc_6.tsv'], 168: ['doc_6.tsv'], 169: ['doc_6.tsv'], 170: ['doc_6.tsv'], 171: ['doc_6.tsv'], 172: ['doc_6.tsv'], 173: ['doc_6.tsv'], 174: ['doc_6.tsv'], 175: ['doc_6.tsv'], 176: ['doc_6.tsv'], 177: ['doc_6.tsv'], 178: ['doc_6.tsv'], 179: ['doc_6.tsv', 'doc_7.tsv'], 180: ['doc_6.tsv'], 181: ['doc_7.tsv'], 182: ['doc_7.tsv'], 183: ['doc_7.tsv'], 184: ['doc_7.tsv'], 185: ['doc_7.tsv'], 186: ['doc_7.tsv'], 187: ['doc_7.tsv'], 188: ['doc_7.tsv'], 189: ['doc_7.tsv'], 190: ['doc_7.tsv'], 191: ['doc_7.tsv'], 192: ['doc_7.tsv'], 193: ['doc_7.tsv'], 194: ['doc_7.tsv'], 195: ['doc_7.tsv'], 196: ['doc_7.tsv'], 197: ['doc_7.tsv'], 198: ['doc_7.tsv'], 199: ['doc_7.tsv'], 200: ['doc_7.tsv'], 201: ['doc_7.tsv'], 202: ['doc_7.tsv'], 203: ['doc_7.tsv'], 204: ['doc_7.tsv'], 205: ['doc_7.tsv'], 206: ['doc_7.tsv'], 207: ['doc_7.tsv'], 208: ['doc_7.tsv'], 209: ['doc_8.tsv'], 210: ['doc_8.tsv'], 211: ['doc_8.tsv'], 212: ['doc_8.tsv'], 213: ['doc_8.tsv'], 214: ['doc_8.tsv'], 215: ['doc_8.tsv'], 216: ['doc_8.tsv'], 217: ['doc_8.tsv'], 218: ['doc_8.tsv'], 219: ['doc_8.tsv'], 220: ['doc_8.tsv'], 221: ['doc_8.tsv'], 222: ['doc_8.tsv'], 223: ['doc_8.tsv'], 224: ['doc_8.tsv'], 225: ['doc_8.tsv'], 226: ['doc_8.tsv'], 227: ['doc_9.tsv'], 228: ['doc_9.tsv'], 229: ['doc_9.tsv'], 230: ['doc_9.tsv'], 231: ['doc_9.tsv'], 232: ['doc_9.tsv'], 233: ['doc_9.tsv'], 234: ['doc_9.tsv'], 235: ['doc_9.tsv'], 236: ['doc_9.tsv'], 237: ['doc_9.tsv'], 238: ['doc_9.tsv'], 239: ['doc_9.tsv'], 240: ['doc_9.tsv'], 241: ['doc_9.tsv'], 242: ['doc_9.tsv'], 243: ['doc_9.tsv'], 244: ['doc_9.tsv'], 245: ['doc_9.tsv'], 246: ['doc_9.tsv']}\n"
     ]
    }
   ],
   "source": [
    "print(inverted_index)"
   ]
  },
  {
   "cell_type": "code",
   "execution_count": null,
   "metadata": {},
   "outputs": [],
   "source": [
    "query = input()"
   ]
  }
 ],
 "metadata": {
  "kernelspec": {
   "display_name": "Python 3",
   "language": "python",
   "name": "python3"
  },
  "language_info": {
   "codemirror_mode": {
    "name": "ipython",
    "version": 3
   },
   "file_extension": ".py",
   "mimetype": "text/x-python",
   "name": "python",
   "nbconvert_exporter": "python",
   "pygments_lexer": "ipython3",
   "version": "3.6.5"
  }
 },
 "nbformat": 4,
 "nbformat_minor": 2
}
