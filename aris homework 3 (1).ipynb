{
 "cells": [
  {
   "cell_type": "code",
   "execution_count": 67,
   "metadata": {},
   "outputs": [],
   "source": [
    "import pandas as pd\n",
    "import csv\n",
    "import nltk\n",
    "from nltk.corpus import stopwords\n",
    "from nltk.stem import PorterStemmer \n",
    "from nltk.tokenize import sent_tokenize, word_tokenize\n",
    "from collections import defaultdict"
   ]
  },
  {
   "cell_type": "code",
   "execution_count": 82,
   "metadata": {},
   "outputs": [],
   "source": [
    "with open('Airbnb_Texas_Rentals.csv','r',encoding=\"utf8\") as csv_file:\n",
    "    csv_reader=csv.reader(csv_file)\n",
    "    \n",
    "    with open('Airbnb_Texas_Rentals.tsv','w',encoding=\"utf8\") as new_file: \n",
    "        csv_writer=csv.writer(new_file,delimiter='\\t')\n",
    "    \n",
    "        for line in csv_reader:\n",
    "            csv_writer.writerow(line[1:]) "
   ]
  },
  {
   "cell_type": "code",
   "execution_count": 83,
   "metadata": {},
   "outputs": [],
   "source": [
    " with open('Airbnb_Texas_Rentals.tsv','r',encoding=\"utf8\") as all_files:\n",
    "    for i, row in enumerate(all_files):\n",
    "        if i > 0:\n",
    "            if row != '\\n':\n",
    "                with open('doc_' + str(int((i-(i/2)))) + '.tsv','w',encoding=\"utf8\") as new_files:\n",
    "                    new_files.write(row)                "
   ]
  },
  {
   "cell_type": "code",
   "execution_count": 85,
   "metadata": {},
   "outputs": [
    {
     "name": "stdout",
     "output_type": "stream",
     "text": [
      "defaultdict(<class 'list'>, {'guest': [1], 'room': [1, 2, 3, 4, 8], 'airport\\\\nairport': [1], 'second': [1], '-95.2939960042513': [1], 'airport': [1, 2, 7], '10/trip': [1], 'humbl': [1], '//www.airbnb.com/rooms/18520444': [1], '?': [1, 2, 3, 4, 5, 6, 7, 8, 9], '10min': [1], 'anoth': [1], 'location=cleveland': [1, 6], 'sofa': [1], 'detach': [1], ':': [1, 2, 3, 4, 5, 6, 7, 8, 9], 'queen': [1, 8], 'privat': [1, 4, 8], 'addit': [1], 'bedroom': [1, 2, 4, 8, 9], '2': [1, 2, 5], '30.0201379199512': [1], '2016': [1, 4, 6, 7, 8, 9], '27': [1], 'guest.\\\\n10min': [1], 'may': [1], 'welcom': [1, 5], '20tx': [1, 2, 3, 4, 5, 6, 7, 8, 9], '$': [1, 2, 3, 4, 5, 6, 7, 8, 9], '%': [1, 2, 3, 4, 5, 6, 7, 8, 9], 'stay': [1], '10': [1], 'bathroom': [1, 2, 4, 8], '2C': [1, 2, 3, 4, 5, 6, 7, 8, 9], 'pick-up/drop': [1], 'avail': [1, 7, 8], 'iah': [1], 'bed': [1, 8], 'rooms/bathroom': [1], 'http': [1, 2, 3, 4, 5, 6, 7, 8, 9], 'floor': [1, 2], '3': [2, 7, 9], '//www.airbnb.com/rooms/17481455': [2], 'beauti': [2, 8], 'area': [2], 'season': [2], 'park': [2, 5, 7], '29.5030676756061': [2], 'hardwood': [2], 'loop': [2], 'design': [2], 'inspir': [2], '-98.4476879378504': [2], 'stylish': [2], '281': [2], 'origin': [2, 5], 'quiet': [2], 'full': [2], 'top': [2], '149': [2], 'upscal': [2], 'independ': [2], 'street': [2, 5], 'prestigi': [2], '\\\\n\\\\namaz': [2], '“': [2], 'close': [2, 3, 4, 6], 'car': [2], 'remodel': [2], 'uniqu': [2], 'tree': [2], 'line': [2], 'decor': [2], '-': [2, 9], 'hous': [2, 3, 8], '!': [2], 'NW': [2], '410': [2], 'location=cibolo': [2], 'neighborhood': [2, 4, 6, 8], 'novemb': [2], 'driveway': [2], '4': [2, 6], 'home': [2, 4, 5, 6, 7], 'more\\\\n\\\\neuropean': [2], 'locat': [2], 'fulli': [2], '\\\\n\\\\nfeatur': [2], 'plan': [2], 'san': [2, 3], '+': [2], 'kitchen': [2], 'sleep': [2], '”': [2], 'down-town': [2], 'garden-tv': [2], 'antonio': [2], 'height': [2], 'alamo': [2], '2010': [2], 'conveni': [2], '–': [2], 'open': [2], '59': [3], 'januari': [3, 8], 'near': [3], 'houston': [3], 'river': [3], '29.8293522272149': [3], 'visitor': [3], 'well': [3], 'citi': [3], \"'river\": [3], '20citi': [3], 'location=beach': [3], 'island': [3], 'maintain': [3], '//www.airbnb.com/rooms/16926307': [3], '2017': [3, 5], 'temporari': [3], 'jacinto': [3], '\\\\na': [3], '1': [3, 4, 8], 'extra': [3], '-95.0815494887563': [3], 'campu': [4], 'acr': [4, 7], 'bryan': [4], 'garden': [4], 'the': [4, 5, 8], '20station': [4], 'cute': [4], '60': [4], 'littl': [4], 'situat': [4], 'access': [4], 'februari': [4, 5, 9], '//www.airbnb.com/rooms/11839729': [4], '30.6373042787676': [4], '-96.3378459729631': [4], 'location=colleg': [4], 'covet': [4], 'built': [5], 'current': [5], '32.7470973543511': [5], \"'re\": [5], 'purchas': [5], 'gateway': [5], 'you': [5, 6], 'minut': [5], '5': [5], 'offer': [5, 7], 'rejuven': [5], 'recent': [5], 'outsid': [5], '1920': [5], 'porch': [5], '-97.2864343970125': [5], '75': [5], \"'s\": [5], 'fort': [5, 8], 'We': [5, 8], 'downtown': [5, 8], '//www.airbnb.com/rooms/17325114': [5], 'worth': [5, 8], 'location=colleyvil': [5], 'mile': [5, 7, 8], 'restor': [5], 'drive': [5], 'happi': [5], 'across': [5], '1922': [5], 'charact': [5], 'busi': [6], '’': [6], '-95.3853190358678': [6], 'lake': [6], 'outdoor': [6], 'love': [6], 'travel': [6], 'famili': [6], 'space': [6], 'place': [6], 'activ': [6], '//www.airbnb.com/rooms/14466133': [6], 'group': [6], 'countri': [6, 7], 'august': [6], 'gorgeou': [6], 'kid': [6], 'set': [6], 'solo': [6], 'family-friendli': [6], 'big': [6], '250': [6], 'good': [6], '30.370455202614': [6], 'My': [6], 'conro': [6], 'coupl': [6], 'adventur': [6], 'nightlif': [6], 'march': [7], 'america': [7], 'cozi': [7], 'trailer': [7], 'experi': [7], 'retreat': [7], 'amen': [7], 'texa': [7], 'creek': [7], '8': [7], 'circuit': [7], 'location=cedar': [7], 'southeast': [7], 'cedar': [7], 'cota': [7], 'austin': [7], 'acreag': [7], 'formula': [7], 'convert': [7], '-97.4734169128682': [7], 'less': [7], 'one': [7], '//www.airbnb.com/rooms/12491762': [7], '129': [7], '15': [7], 'quaint': [7], 'modular': [7], 'need': [7], '30.109838308143': [7], 'rustic': [7], '20creek': [7], 'stockyard': [8], 'alway': [8], 'location=cleburn': [8], 'share': [8], 'closet': [8], 'suppli': [8], 'size': [8], 'thi': [8], 'clean': [8], 'tcu': [8], 'friendli': [8], 'towel': [8], 'َquiet': [8], 'shampoo': [8], '25': [8], '-97.298160860565': [8], 'tcc': [8], '//www.airbnb.com/rooms/18977363': [8], 'pet': [8], '32.6896114095237': [8], '28.1037257224157': [9], 'first': [9], 'patio': [9], 'class': [9], 'patio.\\\\r\\\\npi': [9], 'away': [9], 'step': [9], 'rockport': [9], '-97.025832094037': [9], 'condo': [9], 'deck': [9], 'view': [9], 'bayfront': [9], '345': [9], 'comfort': [9], '//www.airbnb.com/rooms/17559848': [9], 'best': [9], 'bottom': [9], '608': [9], 'master': [9], 'location=baysid': [9]})\n"
     ]
    }
   ],
   "source": [
    "voc = []\n",
    "for i in range(1,10):\n",
    "    sub_voc = []\n",
    "    \n",
    "    with open('doc_' + str(i) + '.tsv','r+',encoding=\"utf8\") as opened_files:\n",
    "        csv_reader = csv.reader(opened_files, delimiter = '\\t')\n",
    "\n",
    "        for line in csv_reader:\n",
    "            for field in line:\n",
    "                tokens = nltk.word_tokenize(field)\n",
    "                \n",
    "                ps = PorterStemmer()\n",
    "                tokens = [ps.stem(token) for token in tokens if token not in stopwords.words('english') if token not in \".,'()\"]\n",
    "                \n",
    "                #for i, value in enumerate(vocabulary.keys()):\n",
    "                #    vocabulary[value] = i\n",
    "                sub_voc.append(tokens)\n",
    "                \n",
    "    doci_dict = dict.fromkeys(set([item for sublist in sub_voc for item in sublist]), i)\n",
    "    voc.append(doci_dict)\n",
    "\n",
    "d = defaultdict(list)\n",
    "voc = {d[key].append(subdict[key])  for subdict in voc for key in subdict}\n",
    "print(d)"
   ]
  }
 ],
 "metadata": {
  "kernelspec": {
   "display_name": "Python 3",
   "language": "python",
   "name": "python3"
  },
  "language_info": {
   "codemirror_mode": {
    "name": "ipython",
    "version": 3
   },
   "file_extension": ".py",
   "mimetype": "text/x-python",
   "name": "python",
   "nbconvert_exporter": "python",
   "pygments_lexer": "ipython3",
   "version": "3.6.5"
  }
 },
 "nbformat": 4,
 "nbformat_minor": 2
}
