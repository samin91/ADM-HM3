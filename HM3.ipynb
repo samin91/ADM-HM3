{
 "cells": [
  {
   "cell_type": "code",
   "execution_count": 8,
   "metadata": {},
   "outputs": [],
   "source": [
    "file = open(\"Airbnb_Texas_Rentals.csv\")\n",
    "lines = file.readlines()[1:10]\n",
    "for line in lines:\n",
    "    cols = line.replace('\"', '').replace('\\t', ' ').split(',')\n",
    "    record = \"\\t\".join(cols[1:])\n",
    "    with open('doc\\doc_{}.tsv'.format(cols[0]), 'w') as file:\n",
    "            file.write(record)\n"
   ]
  },
  {
   "cell_type": "code",
   "execution_count": 9,
   "metadata": {},
   "outputs": [
    {
     "name": "stdout",
     "output_type": "stream",
     "text": [
      "['doc_1.tsv', 'doc_2.tsv', 'doc_3.tsv', 'doc_4.tsv', 'doc_5.tsv', 'doc_6.tsv', 'doc_7.tsv', 'doc_8.tsv', 'doc_9.tsv']\n"
     ]
    }
   ],
   "source": [
    "from os import listdir\n",
    "from os.path import isfile, join\n",
    "docpaths = [f for f in listdir(\"doc\") if isfile(join(\"doc\", f))]\n"
   ]
  },
  {
   "cell_type": "code",
   "execution_count": 14,
   "metadata": {},
   "outputs": [],
   "source": [
    "def save_dict_to_file(dic, file):\n",
    "    f = open('{}.txt'.format(file), 'w')\n",
    "    f.write(str(dic))\n",
    "    f.close()"
   ]
  },
  {
   "cell_type": "code",
   "execution_count": 28,
   "metadata": {},
   "outputs": [],
   "source": [
    "vocabulary = {}\n",
    "inverted_index = {}\n",
    "indexOfWord = 0\n",
    "for doc in docpaths:\n",
    "    with open('doc\\{}'.format(doc), 'r') as file:\n",
    "        lines = file.readlines()\n",
    "        if len(lines) > 0 :\n",
    "            document = lines[0]\n",
    "            cols = document.replace('\\\\n',' ').split('\\t')[:-1]\n",
    "            document = '\\t'.join(cols)\n",
    "            tokens = nltk.word_tokenize(document)\n",
    "            filtered_words = [word.lower() for word in tokens if word not in nltk.corpus.stopwords.words('english') and word not in \".,'()$\"]\n",
    "            for w in filtered_words:\n",
    "                if w not in vocabulary:\n",
    "                    indexOfWord += 1\n",
    "                    vocabulary[w] = indexOfWord\n",
    "                if vocabulary[w] not in inverted_index:\n",
    "                    temp = []\n",
    "                    temp.append(doc)\n",
    "                    inverted_index[vocabulary[w]] = temp\n",
    "                elif doc not in inverted_index[vocabulary[w]]:\n",
    "                    inverted_index[vocabulary[w]].append(doc)\n",
    "save_dict_to_file(inverted_index,\"inverted_index\")\n",
    "save_dict_to_file(vocabulary,\"vocabulary\")\n",
    "        \n"
   ]
  },
  {
   "cell_type": "code",
   "execution_count": 29,
   "metadata": {},
   "outputs": [
    {
     "name": "stdout",
     "output_type": "stream",
     "text": [
      "{'27': 1, '2': 2, 'humble': 3, 'may': 4, '2016': 5, 'welcome': 6, 'stay': 7, 'private': 8, 'room': 9, 'queen': 10, 'bed': 11, 'detached': 12, 'bathroom': 13, 'second': 14, 'floor': 15, 'another': 16, 'bedroom': 17, 'sofa': 18, 'available': 19, 'additional': 20, 'guests': 21, '10': 22, 'guest': 23, '10min': 24, 'iah': 25, 'airport': 26, 'pick-up/drop': 27, '10/trip': 28, '30.0201379199512': 29, '-95.2939960042513': 30, 'rooms/bathroom': 31, '149': 32, '4': 33, 'san': 34, 'antonio': 35, 'november': 36, '2010': 37, 'stylish': 38, 'fully': 39, 'remodeled': 40, 'home': 41, 'upscale': 42, 'nw': 43, 'â€': 44, '“': 45, 'alamo': 46, 'heights': 47, 'area': 48, 'amazing': 49, 'location': 50, '-': 51, 'house': 52, 'conveniently': 53, 'located': 54, 'quiet': 55, 'street': 56, 'beautiful': 57, 'seasoned': 58, 'trees': 59, 'prestigious': 60, 'neighborhood': 61, 'close': 62, '281': 63, '410': 64, 'loop': 65, 'down-town': 66, 'featuring': 67, 'open': 68, 'plan': 69, 'original': 70, 'hardwood': 71, 'floors': 72, '3': 73, 'bedrooms': 74, 'full': 75, 'bathrooms': 76, '+': 77, 'independent': 78, 'garden-tv': 79, 'sleep': 80, 'european': 81, 'inspired': 82, 'kitchen': 83, 'â€œtop': 84, 'lineâ€\\u200c': 85, 'decor': 86, 'driveway': 87, 'park': 88, 'cars': 89, '29.5030676756061': 90, '-98.4476879378504': 91, 'unique': 92, '!': 93, 'designer': 94, '59': 95, '1': 96, 'houston': 97, 'january': 98, '2017': 99, \"'river\": 100, 'island': 101, 'city': 102, 'a': 103, 'well': 104, 'maintained': 105, 'river': 106, 'jacinto': 107, 'extra': 108, 'temporary': 109, 'visitors': 110, '29.8293522272149': 111, '-95.0815494887563': 112, 'near': 113, '60': 114, 'bryan': 115, 'february': 116, 'cute': 117, 'little': 118, 'situated': 119, 'coveted': 120, 'garden': 121, 'acres': 122, 'the': 123, 'access': 124, '30.6373042787676': 125, '-96.3378459729631': 126, 'campus': 127, '75': 128, 'fort': 129, 'worth': 130, '1920': 131, \"'s\": 132, 'we': 133, 'recently': 134, 'purchased': 135, '1922': 136, 'mile': 137, 'outside': 138, 'downtown': 139, 'happy': 140, 'restoring': 141, 'character': 142, 'built': 143, 'you': 144, \"'re\": 145, '5': 146, 'minute': 147, 'drive': 148, 'offer': 149, 'across': 150, 'currently': 151, 'rejuvenated': 152, 'gateway': 153, '32.7470973543511': 154, '-97.2864343970125': 155, 'porch': 156, '250': 157, 'conroe': 158, 'august': 159, 'my': 160, 'place': 161, 'lake': 162, 'family-friendly': 163, 'activities': 164, 'nightlife': 165, 'youâ€™ll': 166, 'love': 167, 'outdoors': 168, 'space': 169, 'good': 170, 'couples': 171, 'solo': 172, 'adventurers': 173, 'business': 174, 'travelers': 175, 'families': 176, 'kids': 177, 'big': 178, 'groups': 179, '30.370455202614': 180, '-95.3853190358678': 181, 'gorgeous': 182, 'country': 183, 'setting': 184, '129': 185, 'cedar': 186, 'creek': 187, 'march': 188, 'rustic': 189, 'retreat': 190, '8': 191, 'southeast': 192, 'austin': 193, 'converted': 194, 'modular': 195, 'amenities': 196, 'needed': 197, 'offering': 198, 'texas': 199, 'experiences': 200, 'less': 201, '15': 202, 'miles': 203, 'circuit': 204, 'americas': 205, 'cota': 206, 'formula': 207, 'one': 208, 'trailer': 209, 'parking': 210, 'avail': 211, '30.109838308143': 212, '-97.4734169128682': 213, 'cozy': 214, 'quaint': 215, 'acreage': 216, '25': 217, 'this': 218, 'size': 219, 'closet': 220, 'pets': 221, 'always': 222, 'clean': 223, 'shared': 224, 'supplies': 225, 'towels': 226, 'shampoo': 227, 'tcu': 228, 'tcc': 229, 'stockyards': 230, '32.6896114095237': 231, '-97.298160860565': 232, 'friendly': 233, 'ظژquiet': 234, '345': 235, 'rockport': 236, 'first': 237, 'class': 238, 'comfortable': 239, 'condo': 240, 'bests': 241, 'views': 242, 'bottom': 243, 'deck': 244, 'master': 245, 'patio.\\\\r': 246, 'pier': 247, 'steps': 248, 'away': 249, 'patio': 250, '28.1037257224157': 251, '-97.025832094037': 252, '608': 253, 'bayfront': 254, 'condos': 255}\n"
     ]
    }
   ],
   "source": [
    "print(vocabulary)"
   ]
  },
  {
   "cell_type": "code",
   "execution_count": 30,
   "metadata": {},
   "outputs": [
    {
     "name": "stdout",
     "output_type": "stream",
     "text": [
      "{1: ['doc_1.tsv'], 2: ['doc_1.tsv', 'doc_2.tsv', 'doc_5.tsv'], 3: ['doc_1.tsv'], 4: ['doc_1.tsv'], 5: ['doc_1.tsv', 'doc_4.tsv', 'doc_6.tsv', 'doc_7.tsv', 'doc_8.tsv', 'doc_9.tsv'], 6: ['doc_1.tsv', 'doc_5.tsv'], 7: ['doc_1.tsv'], 8: ['doc_1.tsv', 'doc_4.tsv', 'doc_8.tsv'], 9: ['doc_1.tsv', 'doc_2.tsv', 'doc_3.tsv', 'doc_4.tsv', 'doc_8.tsv'], 10: ['doc_1.tsv', 'doc_8.tsv'], 11: ['doc_1.tsv', 'doc_8.tsv'], 12: ['doc_1.tsv'], 13: ['doc_1.tsv', 'doc_4.tsv', 'doc_8.tsv'], 14: ['doc_1.tsv'], 15: ['doc_1.tsv', 'doc_2.tsv'], 16: ['doc_1.tsv'], 17: ['doc_1.tsv', 'doc_4.tsv', 'doc_8.tsv', 'doc_9.tsv'], 18: ['doc_1.tsv'], 19: ['doc_1.tsv', 'doc_8.tsv'], 20: ['doc_1.tsv'], 21: ['doc_1.tsv'], 22: ['doc_1.tsv'], 23: ['doc_1.tsv'], 24: ['doc_1.tsv'], 25: ['doc_1.tsv'], 26: ['doc_1.tsv', 'doc_2.tsv', 'doc_7.tsv'], 27: ['doc_1.tsv'], 28: ['doc_1.tsv'], 29: ['doc_1.tsv'], 30: ['doc_1.tsv'], 31: ['doc_1.tsv'], 32: ['doc_2.tsv'], 33: ['doc_2.tsv', 'doc_6.tsv'], 34: ['doc_2.tsv', 'doc_3.tsv'], 35: ['doc_2.tsv'], 36: ['doc_2.tsv'], 37: ['doc_2.tsv'], 38: ['doc_2.tsv'], 39: ['doc_2.tsv'], 40: ['doc_2.tsv'], 41: ['doc_2.tsv', 'doc_4.tsv', 'doc_5.tsv', 'doc_6.tsv', 'doc_7.tsv'], 42: ['doc_2.tsv'], 43: ['doc_2.tsv'], 44: ['doc_2.tsv'], 45: ['doc_2.tsv'], 46: ['doc_2.tsv'], 47: ['doc_2.tsv'], 48: ['doc_2.tsv'], 49: ['doc_2.tsv'], 50: ['doc_2.tsv'], 51: ['doc_2.tsv', 'doc_9.tsv'], 52: ['doc_2.tsv', 'doc_3.tsv', 'doc_8.tsv'], 53: ['doc_2.tsv'], 54: ['doc_2.tsv'], 55: ['doc_2.tsv'], 56: ['doc_2.tsv', 'doc_5.tsv'], 57: ['doc_2.tsv', 'doc_8.tsv'], 58: ['doc_2.tsv'], 59: ['doc_2.tsv'], 60: ['doc_2.tsv'], 61: ['doc_2.tsv', 'doc_4.tsv', 'doc_6.tsv', 'doc_8.tsv'], 62: ['doc_2.tsv', 'doc_3.tsv', 'doc_4.tsv', 'doc_6.tsv'], 63: ['doc_2.tsv'], 64: ['doc_2.tsv'], 65: ['doc_2.tsv'], 66: ['doc_2.tsv'], 67: ['doc_2.tsv'], 68: ['doc_2.tsv'], 69: ['doc_2.tsv'], 70: ['doc_2.tsv', 'doc_5.tsv'], 71: ['doc_2.tsv'], 72: ['doc_2.tsv'], 73: ['doc_2.tsv', 'doc_7.tsv', 'doc_9.tsv'], 74: ['doc_2.tsv'], 75: ['doc_2.tsv'], 76: ['doc_2.tsv'], 77: ['doc_2.tsv'], 78: ['doc_2.tsv'], 79: ['doc_2.tsv'], 80: ['doc_2.tsv'], 81: ['doc_2.tsv'], 82: ['doc_2.tsv'], 83: ['doc_2.tsv'], 84: ['doc_2.tsv'], 85: ['doc_2.tsv'], 86: ['doc_2.tsv'], 87: ['doc_2.tsv'], 88: ['doc_2.tsv', 'doc_5.tsv'], 89: ['doc_2.tsv'], 90: ['doc_2.tsv'], 91: ['doc_2.tsv'], 92: ['doc_2.tsv'], 93: ['doc_2.tsv'], 94: ['doc_2.tsv'], 95: ['doc_3.tsv'], 96: ['doc_3.tsv', 'doc_4.tsv', 'doc_8.tsv'], 97: ['doc_3.tsv'], 98: ['doc_3.tsv', 'doc_8.tsv'], 99: ['doc_3.tsv', 'doc_5.tsv'], 100: ['doc_3.tsv'], 101: ['doc_3.tsv'], 102: ['doc_3.tsv'], 103: ['doc_3.tsv'], 104: ['doc_3.tsv'], 105: ['doc_3.tsv'], 106: ['doc_3.tsv'], 107: ['doc_3.tsv'], 108: ['doc_3.tsv'], 109: ['doc_3.tsv'], 110: ['doc_3.tsv'], 111: ['doc_3.tsv'], 112: ['doc_3.tsv'], 113: ['doc_3.tsv'], 114: ['doc_4.tsv'], 115: ['doc_4.tsv'], 116: ['doc_4.tsv', 'doc_5.tsv', 'doc_9.tsv'], 117: ['doc_4.tsv'], 118: ['doc_4.tsv'], 119: ['doc_4.tsv'], 120: ['doc_4.tsv'], 121: ['doc_4.tsv'], 122: ['doc_4.tsv', 'doc_7.tsv'], 123: ['doc_4.tsv', 'doc_5.tsv', 'doc_8.tsv'], 124: ['doc_4.tsv'], 125: ['doc_4.tsv'], 126: ['doc_4.tsv'], 127: ['doc_4.tsv'], 128: ['doc_5.tsv'], 129: ['doc_5.tsv', 'doc_8.tsv'], 130: ['doc_5.tsv', 'doc_8.tsv'], 131: ['doc_5.tsv'], 132: ['doc_5.tsv'], 133: ['doc_5.tsv', 'doc_8.tsv'], 134: ['doc_5.tsv'], 135: ['doc_5.tsv'], 136: ['doc_5.tsv'], 137: ['doc_5.tsv'], 138: ['doc_5.tsv'], 139: ['doc_5.tsv', 'doc_8.tsv'], 140: ['doc_5.tsv'], 141: ['doc_5.tsv'], 142: ['doc_5.tsv'], 143: ['doc_5.tsv'], 144: ['doc_5.tsv'], 145: ['doc_5.tsv'], 146: ['doc_5.tsv'], 147: ['doc_5.tsv'], 148: ['doc_5.tsv'], 149: ['doc_5.tsv'], 150: ['doc_5.tsv'], 151: ['doc_5.tsv'], 152: ['doc_5.tsv'], 153: ['doc_5.tsv'], 154: ['doc_5.tsv'], 155: ['doc_5.tsv'], 156: ['doc_5.tsv'], 157: ['doc_6.tsv'], 158: ['doc_6.tsv'], 159: ['doc_6.tsv'], 160: ['doc_6.tsv'], 161: ['doc_6.tsv'], 162: ['doc_6.tsv'], 163: ['doc_6.tsv'], 164: ['doc_6.tsv'], 165: ['doc_6.tsv'], 166: ['doc_6.tsv'], 167: ['doc_6.tsv'], 168: ['doc_6.tsv'], 169: ['doc_6.tsv'], 170: ['doc_6.tsv'], 171: ['doc_6.tsv'], 172: ['doc_6.tsv'], 173: ['doc_6.tsv'], 174: ['doc_6.tsv'], 175: ['doc_6.tsv'], 176: ['doc_6.tsv'], 177: ['doc_6.tsv'], 178: ['doc_6.tsv'], 179: ['doc_6.tsv'], 180: ['doc_6.tsv'], 181: ['doc_6.tsv'], 182: ['doc_6.tsv'], 183: ['doc_6.tsv', 'doc_7.tsv'], 184: ['doc_6.tsv'], 185: ['doc_7.tsv'], 186: ['doc_7.tsv'], 187: ['doc_7.tsv'], 188: ['doc_7.tsv'], 189: ['doc_7.tsv'], 190: ['doc_7.tsv'], 191: ['doc_7.tsv'], 192: ['doc_7.tsv'], 193: ['doc_7.tsv'], 194: ['doc_7.tsv'], 195: ['doc_7.tsv'], 196: ['doc_7.tsv'], 197: ['doc_7.tsv'], 198: ['doc_7.tsv'], 199: ['doc_7.tsv'], 200: ['doc_7.tsv'], 201: ['doc_7.tsv'], 202: ['doc_7.tsv'], 203: ['doc_7.tsv', 'doc_8.tsv'], 204: ['doc_7.tsv'], 205: ['doc_7.tsv'], 206: ['doc_7.tsv'], 207: ['doc_7.tsv'], 208: ['doc_7.tsv'], 209: ['doc_7.tsv'], 210: ['doc_7.tsv'], 211: ['doc_7.tsv'], 212: ['doc_7.tsv'], 213: ['doc_7.tsv'], 214: ['doc_7.tsv'], 215: ['doc_7.tsv'], 216: ['doc_7.tsv'], 217: ['doc_8.tsv'], 218: ['doc_8.tsv'], 219: ['doc_8.tsv'], 220: ['doc_8.tsv'], 221: ['doc_8.tsv'], 222: ['doc_8.tsv'], 223: ['doc_8.tsv'], 224: ['doc_8.tsv'], 225: ['doc_8.tsv'], 226: ['doc_8.tsv'], 227: ['doc_8.tsv'], 228: ['doc_8.tsv'], 229: ['doc_8.tsv'], 230: ['doc_8.tsv'], 231: ['doc_8.tsv'], 232: ['doc_8.tsv'], 233: ['doc_8.tsv'], 234: ['doc_8.tsv'], 235: ['doc_9.tsv'], 236: ['doc_9.tsv'], 237: ['doc_9.tsv'], 238: ['doc_9.tsv'], 239: ['doc_9.tsv'], 240: ['doc_9.tsv'], 241: ['doc_9.tsv'], 242: ['doc_9.tsv'], 243: ['doc_9.tsv'], 244: ['doc_9.tsv'], 245: ['doc_9.tsv'], 246: ['doc_9.tsv'], 247: ['doc_9.tsv'], 248: ['doc_9.tsv'], 249: ['doc_9.tsv'], 250: ['doc_9.tsv'], 251: ['doc_9.tsv'], 252: ['doc_9.tsv'], 253: ['doc_9.tsv'], 254: ['doc_9.tsv'], 255: ['doc_9.tsv']}\n"
     ]
    }
   ],
   "source": [
    "print(inverted_index)"
   ]
  },
  {
   "cell_type": "code",
   "execution_count": null,
   "metadata": {},
   "outputs": [],
   "source": [
    "query = input()"
   ]
  }
 ],
 "metadata": {
  "kernelspec": {
   "display_name": "Python 3",
   "language": "python",
   "name": "python3"
  },
  "language_info": {
   "codemirror_mode": {
    "name": "ipython",
    "version": 3
   },
   "file_extension": ".py",
   "mimetype": "text/x-python",
   "name": "python",
   "nbconvert_exporter": "python",
   "pygments_lexer": "ipython3",
   "version": "3.6.5"
  }
 },
 "nbformat": 4,
 "nbformat_minor": 2
}
