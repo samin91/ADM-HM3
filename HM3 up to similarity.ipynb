{
 "cells": [
  {
   "cell_type": "code",
   "execution_count": 82,
   "metadata": {},
   "outputs": [],
   "source": [
    "import csv\n",
    "import pandas as pd\n",
    "from os import listdir\n",
    "from os.path import isfile, join\n",
    "import nltk\n",
    "from nltk.corpus import stopwords\n",
    "from nltk.stem import PorterStemmer \n",
    "from nltk.tokenize import sent_tokenize, word_tokenize\n",
    "import math\n",
    "import numpy as np\n",
    "import scipy\n",
    "from collections import defaultdict"
   ]
  },
  {
   "cell_type": "code",
   "execution_count": 2,
   "metadata": {
    "scrolled": true
   },
   "outputs": [],
   "source": [
    "with open('Airbnb_Texas_Rentals_new.csv','r',encoding=\"utf8\") as csv_file:\n",
    "    csv_reader=csv.reader(csv_file)\n",
    "    \n",
    "    with open('Airbnb_Texas_Rentals.tsv','w',encoding=\"utf8\") as new_file: \n",
    "        csv_writer=csv.writer(new_file,delimiter='\\t')\n",
    "    \n",
    "        for line in csv_reader:\n",
    "               csv_writer.writerow(line[1:]) \n",
    "\n",
    "with open('Airbnb_Texas_Rentals.tsv','r',encoding=\"utf8\") as all_files:\n",
    "    for i, row in enumerate(all_files):\n",
    "        if i > 0 and i < 40:\n",
    "            if row != '\\n':\n",
    "                with open('doc\\doc_' + str(int((i-(i/2)))) + '.tsv','w',encoding=\"utf8\") as new_files:\n",
    "                    new_files.write(row)      "
   ]
  },
  {
   "cell_type": "code",
   "execution_count": 3,
   "metadata": {},
   "outputs": [],
   "source": [
    "def save_dict_to_file(dic, file):\n",
    "    f = open('{}.txt'.format(file), 'w',encoding=\"utf8\")\n",
    "    f.write(str(dic))\n",
    "    f.close()"
   ]
  },
  {
   "cell_type": "code",
   "execution_count": null,
   "metadata": {},
   "outputs": [],
   "source": [
    "docpaths = [f for f in listdir(\"doc\") if isfile(join(\"doc\", f))]\n",
    "\n",
    "documentlist = {}\n",
    "vocabulary = {}\n",
    "inverted_index = {}\n",
    "indexOfWord = 0\n",
    "for doc in docpaths:\n",
    "    with open('doc\\{}'.format(doc), 'r',encoding=\"utf8\") as file:\n",
    "        lines = file.readlines()\n",
    "        if len(lines) > 0 :\n",
    "            document = lines[0]\n",
    "            cols = document.replace('\\\\n',' ').split('\\t')[:-1]\n",
    "            document = '\\t'.join(cols)\n",
    "            tokens = nltk.word_tokenize(document)\n",
    "            filtered_words = [nltk.stem.PorterStemmer().stem(word) for word in tokens if word not in nltk.corpus.stopwords.words('english') and word not in \".,'()\"]\n",
    "            documentlist[doc] = filtered_words\n",
    "            for w in filtered_words:\n",
    "                if w not in vocabulary:\n",
    "                    indexOfWord += 1\n",
    "                    vocabulary[w] = indexOfWord\n",
    "                if vocabulary[w] not in inverted_index:\n",
    "                    temp = []\n",
    "                    temp.append(doc)\n",
    "                    inverted_index[vocabulary[w]] = temp\n",
    "                elif doc not in inverted_index[vocabulary[w]]:\n",
    "                    inverted_index[vocabulary[w]].append(doc)\n",
    "\n",
    "\n",
    "save_dict_to_file(inverted_index,\"inverted_index\")\n",
    "save_dict_to_file(vocabulary,\"vocabulary\")\n",
    "save_dict_to_file(documentlist,\"documentlist\")"
   ]
  },
  {
   "cell_type": "code",
   "execution_count": 5,
   "metadata": {},
   "outputs": [
    {
     "name": "stdout",
     "output_type": "stream",
     "text": [
      "room bedroom\n"
     ]
    },
    {
     "data": {
      "text/html": [
       "<div>\n",
       "<style scoped>\n",
       "    .dataframe tbody tr th:only-of-type {\n",
       "        vertical-align: middle;\n",
       "    }\n",
       "\n",
       "    .dataframe tbody tr th {\n",
       "        vertical-align: top;\n",
       "    }\n",
       "\n",
       "    .dataframe thead th {\n",
       "        text-align: right;\n",
       "    }\n",
       "</style>\n",
       "<table border=\"1\" class=\"dataframe\">\n",
       "  <thead>\n",
       "    <tr style=\"text-align: right;\">\n",
       "      <th></th>\n",
       "      <th>title</th>\n",
       "      <th>description</th>\n",
       "      <th>city</th>\n",
       "      <th>url</th>\n",
       "    </tr>\n",
       "  </thead>\n",
       "  <tbody>\n",
       "    <tr>\n",
       "      <th>0</th>\n",
       "      <td>Friendly Private Room in َQuiet Neighborhood</td>\n",
       "      <td>This is a beautiful bedroom with a queen size bed and closet. We do not have pets and the house is always clean. The bathroom is shared and supplies such as towels and shampoo are available. We are only some miles from Downtown, TCU, TCC, and Stockyards.</td>\n",
       "      <td>Fort Worth</td>\n",
       "      <td>https://www.airbnb.com/rooms/18977363?location=Cleburne%2C%20TX</td>\n",
       "    </tr>\n",
       "    <tr>\n",
       "      <th>1</th>\n",
       "      <td>Unique Location! Alamo Heights - Designer Inspired</td>\n",
       "      <td>Stylish, fully remodeled home in upscale NW – Alamo Heights Area. \\n\\nAmazing location - House conveniently located in quiet street, with beautiful seasoned trees, prestigious neighborhood and very close to the airport, 281, 410 loop and down-town area. \\n\\nFeaturing an open floor plan, original hardwood floors, 3 bedrooms, 3 FULL bathrooms + an independent garden-TV room which can sleep 2 more\\n\\nEuropean inspired kitchen and “top of the line” decor. Driveway can park 4 cars.</td>\n",
       "      <td>San Antonio</td>\n",
       "      <td>https://www.airbnb.com/rooms/17481455?location=Cibolo%2C%20TX</td>\n",
       "    </tr>\n",
       "    <tr>\n",
       "      <th>2</th>\n",
       "      <td>2 Private rooms/bathroom 10min from IAH airport</td>\n",
       "      <td>Welcome to stay in private room with queen bed and detached private bathroom on the second floor. Another private bedroom with sofa bed is available for additional guests. 10$ for an additional guest.\\n10min from IAH airport\\nAirport pick-up/drop off is available for $10/trip.</td>\n",
       "      <td>Humble</td>\n",
       "      <td>https://www.airbnb.com/rooms/18520444?location=Cleveland%2C%20TX</td>\n",
       "    </tr>\n",
       "    <tr>\n",
       "      <th>3</th>\n",
       "      <td>Private Room Close to Campus</td>\n",
       "      <td>Private bedroom in a cute little home situated in the coveted Garden Acres neighborhood in Bryan. The bedroom has its own private access and its own private bathroom.</td>\n",
       "      <td>Bryan</td>\n",
       "      <td>https://www.airbnb.com/rooms/11839729?location=College%20Station%2C%20TX</td>\n",
       "    </tr>\n",
       "  </tbody>\n",
       "</table>\n",
       "</div>"
      ],
      "text/plain": [
       "                                                title  \\\n",
       "0        Friendly Private Room in َQuiet Neighborhood   \n",
       "1  Unique Location! Alamo Heights - Designer Inspired   \n",
       "2     2 Private rooms/bathroom 10min from IAH airport   \n",
       "3                        Private Room Close to Campus   \n",
       "\n",
       "                                                                                                                                                                                                                                                                                                                                                                                                                                                                                         description  \\\n",
       "0                                                                                                                                                                                                                                     This is a beautiful bedroom with a queen size bed and closet. We do not have pets and the house is always clean. The bathroom is shared and supplies such as towels and shampoo are available. We are only some miles from Downtown, TCU, TCC, and Stockyards.   \n",
       "1  Stylish, fully remodeled home in upscale NW – Alamo Heights Area. \\n\\nAmazing location - House conveniently located in quiet street, with beautiful seasoned trees, prestigious neighborhood and very close to the airport, 281, 410 loop and down-town area. \\n\\nFeaturing an open floor plan, original hardwood floors, 3 bedrooms, 3 FULL bathrooms + an independent garden-TV room which can sleep 2 more\\n\\nEuropean inspired kitchen and “top of the line” decor. Driveway can park 4 cars.   \n",
       "2                                                                                                                                                                                                              Welcome to stay in private room with queen bed and detached private bathroom on the second floor. Another private bedroom with sofa bed is available for additional guests. 10$ for an additional guest.\\n10min from IAH airport\\nAirport pick-up/drop off is available for $10/trip.   \n",
       "3                                                                                                                                                                                                                                                                                                                             Private bedroom in a cute little home situated in the coveted Garden Acres neighborhood in Bryan. The bedroom has its own private access and its own private bathroom.   \n",
       "\n",
       "          city  \\\n",
       "0   Fort Worth   \n",
       "1  San Antonio   \n",
       "2       Humble   \n",
       "3        Bryan   \n",
       "\n",
       "                                                                        url  \n",
       "0           https://www.airbnb.com/rooms/18977363?location=Cleburne%2C%20TX  \n",
       "1             https://www.airbnb.com/rooms/17481455?location=Cibolo%2C%20TX  \n",
       "2          https://www.airbnb.com/rooms/18520444?location=Cleveland%2C%20TX  \n",
       "3  https://www.airbnb.com/rooms/11839729?location=College%20Station%2C%20TX  "
      ]
     },
     "metadata": {},
     "output_type": "display_data"
    }
   ],
   "source": [
    "query = input()\n",
    "tokens = nltk.word_tokenize(query)\n",
    "query_tokens = [nltk.stem.PorterStemmer().stem(token) for token in tokens if token not in stopwords.words('english') if token not in \".,'()\"]\n",
    "\n",
    "vocabulary = open('vocabulary.txt', 'r', encoding = 'utf-8') \n",
    "L1 = eval(vocabulary.read())\n",
    "inverted_index = open('inverted_index.txt', 'r', encoding = 'utf-8')  \n",
    "L2 = eval(inverted_index.read())\n",
    "        \n",
    "term_ids = [L1[token] for token in query_tokens if token in L1]\n",
    "search_results = [L2[idx] for idx in term_ids if idx in L2]  \n",
    "\n",
    "new_list = [set(list_) for list_ in search_results]\n",
    "intersect = set.intersection(*new_list)\n",
    "\n",
    "col_names = [\"average_rate_per_night\",\"bedrooms_count\",\"city\",\"date_of_listing\",\"description\",\"latitude\",\"longitude\",\"title\",\"url\"]\n",
    "df = pd.DataFrame(columns = col_names)#index = False?\n",
    "\n",
    "for j, doc in enumerate(intersect):\n",
    "    with open(r'doc\\{}'.format(doc), 'r',encoding=\"utf-8\") as file:\n",
    "        \n",
    "        csv_reader = csv.reader(file, delimiter = '\\t')\n",
    "        for line in csv_reader:\n",
    "            line = line[1:]\n",
    "            for i, field in enumerate(line):\n",
    "                df.loc[j, col_names[i]] = field \n",
    "        \n",
    "pd.set_option('max_colwidth',500)\n",
    "display(df[['title', 'description', 'city', 'url']])"
   ]
  },
  {
   "cell_type": "code",
   "execution_count": 7,
   "metadata": {},
   "outputs": [],
   "source": [
    "#how may times the word is repeated within the i-th document divided by its length\n",
    "def tf(word, document):\n",
    "    return document.count(word) / len(document)\n",
    "\n",
    "def word_containing(word, documentlist):\n",
    "    return sum(1 for document in documentlist if word in document)\n",
    "\n",
    "#IDF(word) = 1 + loge(Total Number Of Documents / Number Of Documents with term 'word' in it)\n",
    "def idf(word, documentlist):\n",
    "    return math.log(len(documentlist) / (1 + word_containing(word, documentlist)))\n",
    "\n",
    "def tfidf(word, document, documentlist):\n",
    "    return tf(word, document) * idf(word, documentlist)"
   ]
  },
  {
   "cell_type": "code",
   "execution_count": 69,
   "metadata": {},
   "outputs": [],
   "source": [
    "new_inverted_index = {}\n",
    "with open('documentlist.txt', 'r', encoding=\"utf-8\") as file:\n",
    "    data = eval(file.read())\n",
    "    for key,doc in documentlist.items():\n",
    "        for w in doc:\n",
    "            score = tfidf(w,doc,documentlist)\n",
    "            w_index = (key,score)\n",
    "            if vocabulary[w] not in new_inverted_index:\n",
    "                temp = []\n",
    "                temp.append(w_index)\n",
    "                new_inverted_index[vocabulary[w]] = temp\n",
    "            elif doc not in new_inverted_index[vocabulary[w]]:\n",
    "                new_inverted_index[vocabulary[w]].append(w_index)\n",
    "#print(new_inverted_index)\n",
    "for key in new_inverted_index:\n",
    "    new_inverted_index[key] = list(set(new_inverted_index[key]))\n",
    "\n",
    "save_dict_to_file(new_inverted_index,\"inverted_index_tfidf\")"
   ]
  },
  {
   "cell_type": "code",
   "execution_count": 47,
   "metadata": {},
   "outputs": [
    {
     "name": "stdout",
     "output_type": "stream",
     "text": [
      "room house\n",
      "[0.5, 0.5]\n"
     ]
    }
   ],
   "source": [
    "\n",
    "query = input()\n",
    "tokens = nltk.word_tokenize(query)\n",
    "query_tokens = [nltk.stem.PorterStemmer().stem(token) for token in tokens if token not in stopwords.words('english') if token not in \".,'()\"]\n",
    "\n",
    "tfidf_query_array = []\n",
    "for w in query_tokens:\n",
    "    # tf/idf score for the query: the tf will just be how many times the word is contained in the query,\n",
    "    # the idf will be just 1 + the logarithm of the number of documents(1) divided by 1 (because the term is repeated only in 1 document that's the query)\n",
    "    # so the idf will be 1 + 0 = 1\n",
    "    score = tf(w, query_tokens)\n",
    "    tfidf_query_array.append(score)\n",
    "print(tfidf_query_array)"
   ]
  },
  {
   "cell_type": "code",
   "execution_count": 121,
   "metadata": {},
   "outputs": [
    {
     "name": "stdout",
     "output_type": "stream",
     "text": [
      "[11, 196]\n",
      "[[('doc_12.tsv', 0.035052844990076666), ('doc_2.tsv', 0.037749217681621025), ('doc_4.tsv', 0.09814796597221467), ('doc_1.tsv', 0.0640095430253574), ('doc_8.tsv', 0.07361097447916101), ('doc_3.tsv', 0.09814796597221467), ('doc_14.tsv', 0.044612711805552124)], [('doc_2.tsv', 0.037749217681621025), ('doc_16.tsv', 0.1280190860507148), ('doc_8.tsv', 0.07361097447916101), ('doc_3.tsv', 0.29444389791664405), ('doc_14.tsv', 0.044612711805552124)]]\n",
      "{('doc_2.tsv', 0.037749217681621025), ('doc_8.tsv', 0.07361097447916101), ('doc_14.tsv', 0.044612711805552124)}\n",
      "{'doc_12.tsv': [0.035052844990076666], 'doc_2.tsv': [0.037749217681621025, 0.037749217681621025], 'doc_4.tsv': [0.09814796597221467], 'doc_1.tsv': [0.0640095430253574], 'doc_8.tsv': [0.07361097447916101, 0.07361097447916101], 'doc_3.tsv': [0.09814796597221467, 0.29444389791664405], 'doc_14.tsv': [0.044612711805552124, 0.044612711805552124], 'doc_16.tsv': [0.1280190860507148]}\n",
      "[[0.037749217681621025, 0.037749217681621025], [0.07361097447916101, 0.07361097447916101], [0.09814796597221467, 0.29444389791664405], [0.044612711805552124, 0.044612711805552124]]\n"
     ]
    }
   ],
   "source": [
    "inverted_index_tfidf = open(\"inverted_index_tfidf.txt\", 'r', encoding = 'utf-8')  \n",
    "L2 = eval(inverted_index_tfidf.read())\n",
    "\n",
    "\n",
    "term_ids = [L1[token] for token in query_tokens if token in L1]\n",
    "print(term_ids)\n",
    "search_results = [L2[idx] for idx in term_ids if idx in L2]\n",
    "print(search_results)\n",
    "new_list = [set(list_) for list_ in search_results]\n",
    "intersect = set.intersection(*new_list)\n",
    "print(intersect)\n",
    "\n",
    "cos_arrays = {}\n",
    "for list_ in search_results:\n",
    "    for tuple_ in list_:\n",
    "        if tuple_[0] not in cos_arrays:\n",
    "            temp = []\n",
    "            temp.append(tuple_[1])\n",
    "            cos_arrays[tuple_[0]] = temp\n",
    "        else:\n",
    "            cos_arrays[tuple_[0]].append(tuple_[1])\n",
    "print(cos_arrays)\n",
    "\n",
    "final = [cos_arrays[key] for key in cos_arrays if len(cos_arrays[key]) == len(term_ids)]\n",
    "print(final)\n"
   ]
  },
  {
   "cell_type": "code",
   "execution_count": 122,
   "metadata": {},
   "outputs": [
    {
     "name": "stdout",
     "output_type": "stream",
     "text": [
      "1.0\n",
      "1.0\n",
      "0.8944271909999157\n",
      "1.0\n"
     ]
    }
   ],
   "source": [
    "for array in final:\n",
    "    sim = 1 - (scipy.spatial.distance.cosine(np.array(tfidf_query_array) , np.array(array)))\n",
    "    print(sim)"
   ]
  }
 ],
 "metadata": {
  "kernelspec": {
   "display_name": "Python 3",
   "language": "python",
   "name": "python3"
  },
  "language_info": {
   "codemirror_mode": {
    "name": "ipython",
    "version": 3
   },
   "file_extension": ".py",
   "mimetype": "text/x-python",
   "name": "python",
   "nbconvert_exporter": "python",
   "pygments_lexer": "ipython3",
   "version": "3.6.5"
  }
 },
 "nbformat": 4,
 "nbformat_minor": 2
}
