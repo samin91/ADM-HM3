{
 "cells": [
  {
   "cell_type": "code",
   "execution_count": 1,
   "metadata": {},
   "outputs": [],
   "source": [
    "import pandas as pd\n",
    "import csv\n",
    "import nltk\n",
    "from nltk.corpus import stopwords\n",
    "from nltk.stem import PorterStemmer \n",
    "from nltk.tokenize import sent_tokenize, word_tokenize\n",
    "from collections import Counter"
   ]
  },
  {
   "cell_type": "code",
   "execution_count": 2,
   "metadata": {},
   "outputs": [],
   "source": [
    "with open('Airbnb_Texas_Rentals.csv','r',encoding=\"utf8\") as csv_file:\n",
    "    csv_reader=csv.reader(csv_file)\n",
    "    \n",
    "    with open('Airbnb_Texas_Rentals.tsv','w',encoding=\"utf8\") as new_file: \n",
    "        csv_writer=csv.writer(new_file,delimiter='\\t')\n",
    "    \n",
    "        for line in csv_reader:\n",
    "            csv_writer.writerow(line[1:]) "
   ]
  },
  {
   "cell_type": "code",
   "execution_count": 3,
   "metadata": {},
   "outputs": [],
   "source": [
    " with open('Airbnb_Texas_Rentals.tsv','r',encoding=\"utf8\") as all_files:\n",
    "    for i, row in enumerate(all_files):\n",
    "        if i > 0:\n",
    "            if row != '\\n':\n",
    "                with open('doc_' + str(int((i-(i/2)))) + '.tsv','w',encoding=\"utf8\") as new_files:\n",
    "                    new_files.write(row)                "
   ]
  },
  {
   "cell_type": "code",
   "execution_count": 19,
   "metadata": {},
   "outputs": [
    {
     "name": "stdout",
     "output_type": "stream",
     "text": [
      "{'room': 0, '32.7470973543511': 1, 'garden': 2, '29.5030676756061': 3, 'hardwood': 4, 'loop': 5, 'airport': 6, '5': 7, 'share': 8, '?': 9, 'recent': 10, 'cute': 11, 'outsid': 12, '60': 13, 'independ': 14, 'addit': 15, 'privat': 16, 'street': 17, 'patio.\\\\r\\\\npi': 18, '2': 19, '20citi': 20, 'close': 21, 'countri': 22, 'thi': 23, 'clean': 24, 'away': 25, 'location=cedar': 26, 'situat': 27, \"'s\": 28, 'hous': 29, 'condo': 30, 'We': 31, 'convert': 32, 'downtown': 33, 'neighborhood': 34, 'novemb': 35, 'driveway': 36, 'location=colleyvil': 37, 'bathroom': 38, 'set': 39, 'solo': 40, 'one': 41, 'drive': 42, '250': 43, '\\\\n\\\\nfeatur': 44, 'big': 45, '129': 46, '//www.airbnb.com/rooms/12491762': 47, 'best': 48, 'kitchen': 49, '608': 50, 'jacinto': 51, 'down-town': 52, '1': 53, 'iah': 54, '30.109838308143': 55, 'bed': 56, 'conveni': 57, 'alamo': 58, '-95.0815494887563': 59, '1922': 60, 'conro': 61, 'location=baysid': 62, '32.6896114095237': 63, 'adventur': 64, 'nightlif': 65, 'built': 66, 'guest': 67, 'current': 68, '’': 69, 'busi': 70, 'outdoor': 71, '-95.3853190358678': 72, 'bryan': 73, 'america': 74, 'love': 75, 'purchas': 76, 'trailer': 77, 'location=cleburn': 78, 'first': 79, 'travel': 80, 'famili': 81, 'class': 82, 'januari': 83, '-98.4476879378504': 84, 'patio': 85, 'retreat': 86, 'houston': 87, '10min': 88, 'origin': 89, 'pet': 90, 'anoth': 91, 'creek': 92, 'porch': 93, 'detach': 94, '//www.airbnb.com/rooms/14466133': 95, '\\\\n\\\\namaz': 96, 'size': 97, 'tcu': 98, '27': 99, 'guest.\\\\n10min': 100, 'cedar': 101, 'tree': 102, 'line': 103, 'towel': 104, 'decor': 105, '-97.025832094037': 106, 'location=beach': 107, 'island': 108, 'acreag': 109, '$': 110, '410': 111, 'formula': 112, 'comfort': 113, '//www.airbnb.com/rooms/16926307': 114, 'gorgeou': 115, 'less': 116, '10': 117, 'home': 118, 'mile': 119, 'family-friendli': 120, 'quaint': 121, '15': 122, 'plan': 123, '2C': 124, 'san': 125, '+': 126, 'happi': 127, 'need': 128, '”': 129, 'avail': 130, 'master': 131, 'covet': 132, 'http': 133, '-97.4734169128682': 134, 'charact': 135, '20creek': 136, 'open': 137, 'stockyard': 138, '//www.airbnb.com/rooms/17481455': 139, '59': 140, 'experi': 141, 'airport\\\\nairport': 142, '28.1037257224157': 143, ')': 144, 'inspir': 145, 'stylish': 146, 'the': 147, 'offer': 148, 'humbl': 149, '281': 150, 'space': 151, 'amen': 152, 'suppli': 153, 'place': 154, 'quiet': 155, 'location=cleveland': 156, 'top': 157, '149': 158, 'river': 159, 'group': 160, '8': 161, '29.8293522272149': 162, 'bedroom': 163, 'prestigi': 164, 'car': 165, 'uniqu': 166, '30.0201379199512': 167, \"'river\": 168, 'citi': 169, 'remodel': 170, 'well': 171, 'visitor': 172, '75': 173, 'My': 174, 'َquiet': 175, 'step': 176, 'may': 177, 'access': 178, 'shampoo': 179, 'austin': 180, '!': 181, '25': 182, 'maintain': 183, 'view': 184, '345': 185, 'location=cibolo': 186, '%': 187, 'august': 188, '4': 189, '//www.airbnb.com/rooms/11839729': 190, 'locat': 191, 'temporari': 192, 'modular': 193, 'sleep': 194, '\\\\na': 195, 'pick-up/drop': 196, 'garden-tv': 197, 'location=colleg': 198, 'rooms/bathroom': 199, 'height': 200, '//www.airbnb.com/rooms/18977363': 201, 'coupl': 202, 'campu': 203, 'acr': 204, 'lake': 205, \"'re\": 206, 'march': 207, 'beauti': 208, 'cozi': 209, 'alway': 210, 'area': 211, 'season': 212, 'park': 213, 'second': 214, 'design': 215, '-95.2939960042513': 216, 'gateway': 217, 'you': 218, 'minut': 219, '(': 220, '10/trip': 221, '//www.airbnb.com/rooms/18520444': 222, 'near': 223, '20station': 224, 'rejuven': 225, 'closet': 226, 'full': 227, 'texa': 228, '1920': 229, 'sofa': 230, 'activ': 231, ':': 232, 'upscal': 233, 'queen': 234, '-97.2864343970125': 235, 'circuit': 236, 'littl': 237, '“': 238, '2016': 239, 'friendli': 240, 'southeast': 241, 'cota': 242, '-': 243, 'rockport': 244, 'welcom': 245, '20tx': 246, 'februari': 247, 'NW': 248, 'fort': 249, 'deck': 250, 'bayfront': 251, '//www.airbnb.com/rooms/17325114': 252, '-97.298160860565': 253, '//www.airbnb.com/rooms/17559848': 254, 'worth': 255, 'stay': 256, 'more\\\\n\\\\neuropean': 257, 'kid': 258, 'tcc': 259, 'bottom': 260, '2017': 261, 'restor': 262, 'fulli': 263, 'good': 264, '30.370455202614': 265, '30.6373042787676': 266, '-96.3378459729631': 267, 'extra': 268, 'antonio': 269, 'across': 270, '3': 271, '2010': 272, 'rustic': 273, '–': 274, 'floor': 275}\n"
     ]
    }
   ],
   "source": [
    "sub_voc = []\n",
    "for i in range(1,10):\n",
    "    #here i open the file as r+ that means reading and writing\n",
    "    with open('doc_' + str(i) + '.tsv','r+',encoding=\"utf8\") as opened_files:\n",
    "        #i make a reader out of the opened file so i can iterate through the rows of the files\n",
    "        csv_reader = csv.reader(opened_files, delimiter = '\\t')\n",
    "        #i iterate the rows, which are list of words, then through the fields, which contain many words\n",
    "        for line in csv_reader:\n",
    "            for field in line:\n",
    "                #i transform every field into their tokenized version(splits words and punctuation with a comma)\n",
    "                tokens = nltk.word_tokenize(field)\n",
    "                #i call as an object the stemmer. example of stem = playing, plays ---> stem= play(its like the base of the words)\n",
    "                ps = PorterStemmer()\n",
    "                #here i make the conditions to: stem, not including the stepwords(the,on,in,ecc...) and remove punctuation.\n",
    "                tokens = [ps.stem(token) for token in tokens if token not in stopwords.words('english') if token not in \".,'\"]\n",
    "                \n",
    "                sub_voc.append(tokens)\n",
    "\n",
    "# here i use the dict.fromkeys function to create the vocabulary as a dictionary with a set(so i have no repetitions),\n",
    "# \n",
    "vocabulary = dict.fromkeys(set([item for sublist in sub_voc for item in sublist]), 0)\n",
    "for i, value in enumerate(vocabulary.keys()):\n",
    "    vocabulary[value] = i\n",
    "print(vocabulary)\n",
    "\n",
    "          \n"
   ]
  }
 ],
 "metadata": {
  "kernelspec": {
   "display_name": "Python 3",
   "language": "python",
   "name": "python3"
  },
  "language_info": {
   "codemirror_mode": {
    "name": "ipython",
    "version": 3
   },
   "file_extension": ".py",
   "mimetype": "text/x-python",
   "name": "python",
   "nbconvert_exporter": "python",
   "pygments_lexer": "ipython3",
   "version": "3.6.5"
  }
 },
 "nbformat": 4,
 "nbformat_minor": 2
}
