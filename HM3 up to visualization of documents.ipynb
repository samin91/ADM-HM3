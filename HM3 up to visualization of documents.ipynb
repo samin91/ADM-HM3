{
 "cells": [
  {
   "cell_type": "code",
   "execution_count": 160,
   "metadata": {
    "scrolled": true
   },
   "outputs": [],
   "source": [
    "with open('Airbnb_Texas_Rentals_new.csv','r',encoding=\"utf8\") as csv_file:\n",
    "    csv_reader=csv.reader(csv_file)\n",
    "    \n",
    "    with open('Airbnb_Texas_Rentals.tsv','w',encoding=\"utf8\") as new_file: \n",
    "        csv_writer=csv.writer(new_file,delimiter='\\t')\n",
    "    \n",
    "        for line in csv_reader:\n",
    "               csv_writer.writerow(line[1:]) \n",
    "\n",
    "with open('Airbnb_Texas_Rentals.tsv','r',encoding=\"utf8\") as all_files:\n",
    "    for i, row in enumerate(all_files):\n",
    "        if i > 0 and i < 40:\n",
    "            if row != '\\n':\n",
    "                with open('doc\\doc_' + str(int((i-(i/2)))) + '.tsv','w',encoding=\"utf8\") as new_files:\n",
    "                    new_files.write(row)      "
   ]
  },
  {
   "cell_type": "code",
   "execution_count": 161,
   "metadata": {},
   "outputs": [],
   "source": [
    "from os import listdir\n",
    "from os.path import isfile, join\n",
    "docpaths = [f for f in listdir(\"doc\") if isfile(join(\"doc\", f))]\n"
   ]
  },
  {
   "cell_type": "code",
   "execution_count": 162,
   "metadata": {},
   "outputs": [],
   "source": [
    "def save_dict_to_file(dic, file):\n",
    "    f = open('{}.txt'.format(file), 'w',encoding=\"utf8\")\n",
    "    f.write(str(dic))\n",
    "    f.close()"
   ]
  },
  {
   "cell_type": "code",
   "execution_count": 163,
   "metadata": {},
   "outputs": [],
   "source": [
    "import nltk\n",
    "vocabulary = {}\n",
    "inverted_index = {}\n",
    "indexOfWord = 0\n",
    "for doc in docpaths:\n",
    "    with open('doc\\{}'.format(doc), 'r',encoding=\"utf8\") as file:\n",
    "        lines = file.readlines()\n",
    "        if len(lines) > 0 :\n",
    "            document = lines[0]\n",
    "            cols = document.replace('\\\\n',' ').split('\\t')[:-1]\n",
    "            document = '\\t'.join(cols)\n",
    "            tokens = nltk.word_tokenize(document)\n",
    "            filtered_words = [nltk.stem.PorterStemmer().stem(word) for word in tokens if word not in nltk.corpus.stopwords.words('english') and word not in \".,'()$\"]\n",
    "            for w in filtered_words:\n",
    "                if w not in vocabulary:\n",
    "                    indexOfWord += 1\n",
    "                    vocabulary[w] = indexOfWord\n",
    "                if vocabulary[w] not in inverted_index:\n",
    "                    temp = []\n",
    "                    temp.append(doc)\n",
    "                    inverted_index[vocabulary[w]] = temp\n",
    "                elif doc not in inverted_index[vocabulary[w]]:\n",
    "                    inverted_index[vocabulary[w]].append(doc)\n",
    "                    \n",
    "save_dict_to_file(inverted_index,\"inverted_index\")\n",
    "save_dict_to_file(vocabulary,\"vocabulary\")"
   ]
  },
  {
   "cell_type": "code",
   "execution_count": 195,
   "metadata": {},
   "outputs": [
    {
     "name": "stdout",
     "output_type": "stream",
     "text": [
      "room bathroom\n",
      "[['doc_1.tsv', 'doc_12.tsv', 'doc_14.tsv', 'doc_2.tsv', 'doc_3.tsv', 'doc_4.tsv', 'doc_8.tsv'], ['doc_1.tsv', 'doc_14.tsv', 'doc_19.tsv', 'doc_2.tsv', 'doc_4.tsv', 'doc_8.tsv']]\n"
     ]
    },
    {
     "data": {
      "text/html": [
       "<div>\n",
       "<style scoped>\n",
       "    .dataframe tbody tr th:only-of-type {\n",
       "        vertical-align: middle;\n",
       "    }\n",
       "\n",
       "    .dataframe tbody tr th {\n",
       "        vertical-align: top;\n",
       "    }\n",
       "\n",
       "    .dataframe thead th {\n",
       "        text-align: right;\n",
       "    }\n",
       "</style>\n",
       "<table border=\"1\" class=\"dataframe\">\n",
       "  <thead>\n",
       "    <tr style=\"text-align: right;\">\n",
       "      <th></th>\n",
       "      <th>title</th>\n",
       "      <th>description</th>\n",
       "      <th>city</th>\n",
       "      <th>url</th>\n",
       "    </tr>\n",
       "  </thead>\n",
       "  <tbody>\n",
       "    <tr>\n",
       "      <th>0</th>\n",
       "      <td>Unique Location! Alamo Heights - Designer Inspired</td>\n",
       "      <td>Stylish, fully remodeled home in upscale NW – Alamo Heights Area. \\n\\nAmazing location - House conveniently located in quiet street, with beautiful seasoned trees, prestigious neighborhood and very close to the airport, 281, 410 loop and down-town area. \\n\\nFeaturing an open floor plan, original hardwood floors, 3 bedrooms, 3 FULL bathrooms + an independent garden-TV room which can sleep 2 more\\n\\nEuropean inspired kitchen and “top of the line” decor. Driveway can park 4 cars.</td>\n",
       "      <td>San Antonio</td>\n",
       "      <td>https://www.airbnb.com/rooms/17481455?location=Cibolo%2C%20TX</td>\n",
       "    </tr>\n",
       "    <tr>\n",
       "      <th>1</th>\n",
       "      <td>2 Private rooms/bathroom 10min from IAH airport</td>\n",
       "      <td>Welcome to stay in private room with queen bed and detached private bathroom on the second floor. Another private bedroom with sofa bed is available for additional guests. 10$ for an additional guest.\\n10min from IAH airport\\nAirport pick-up/drop off is available for $10/trip.</td>\n",
       "      <td>Humble</td>\n",
       "      <td>https://www.airbnb.com/rooms/18520444?location=Cleveland%2C%20TX</td>\n",
       "    </tr>\n",
       "    <tr>\n",
       "      <th>2</th>\n",
       "      <td>Private Room Close to Campus</td>\n",
       "      <td>Private bedroom in a cute little home situated in the coveted Garden Acres neighborhood in Bryan. The bedroom has its own private access and its own private bathroom.</td>\n",
       "      <td>Bryan</td>\n",
       "      <td>https://www.airbnb.com/rooms/11839729?location=College%20Station%2C%20TX</td>\n",
       "    </tr>\n",
       "    <tr>\n",
       "      <th>3</th>\n",
       "      <td>Friendly Private Room in َQuiet Neighborhood</td>\n",
       "      <td>This is a beautiful bedroom with a queen size bed and closet. We do not have pets and the house is always clean. The bathroom is shared and supplies such as towels and shampoo are available. We are only some miles from Downtown, TCU, TCC, and Stockyards.</td>\n",
       "      <td>Fort Worth</td>\n",
       "      <td>https://www.airbnb.com/rooms/18977363?location=Cleburne%2C%20TX</td>\n",
       "    </tr>\n",
       "    <tr>\n",
       "      <th>4</th>\n",
       "      <td>A Cozy Home with a Beautiful Nature Views</td>\n",
       "      <td>This home is on the North Side of San Antonio, 3 minutes away from a great golfing course and a JW Marriott Resort and Spa. This is a great stopping place for a family and comes with all amenities from cable, internet to a laundry room and 2 bathrooms. This house is against a green belt so you can enjoy the back yard and nature.This area is safe and my neighbors are also great! Hope you enjoy your stay and more so enjoy San Antonio!</td>\n",
       "      <td>San Antonio</td>\n",
       "      <td>https://www.airbnb.com/rooms/19190311?location=Cibolo%2C%20TX</td>\n",
       "    </tr>\n",
       "  </tbody>\n",
       "</table>\n",
       "</div>"
      ],
      "text/plain": [
       "                                                title                                                                                                                                                                                                                                                                                                                                                                                                                                                                                        description         city                                                                       url\n",
       "0  Unique Location! Alamo Heights - Designer Inspired  Stylish, fully remodeled home in upscale NW – Alamo Heights Area. \\n\\nAmazing location - House conveniently located in quiet street, with beautiful seasoned trees, prestigious neighborhood and very close to the airport, 281, 410 loop and down-town area. \\n\\nFeaturing an open floor plan, original hardwood floors, 3 bedrooms, 3 FULL bathrooms + an independent garden-TV room which can sleep 2 more\\n\\nEuropean inspired kitchen and “top of the line” decor. Driveway can park 4 cars.  San Antonio             https://www.airbnb.com/rooms/17481455?location=Cibolo%2C%20TX\n",
       "1     2 Private rooms/bathroom 10min from IAH airport                                                                                                                                                                                                              Welcome to stay in private room with queen bed and detached private bathroom on the second floor. Another private bedroom with sofa bed is available for additional guests. 10$ for an additional guest.\\n10min from IAH airport\\nAirport pick-up/drop off is available for $10/trip.       Humble          https://www.airbnb.com/rooms/18520444?location=Cleveland%2C%20TX\n",
       "2                        Private Room Close to Campus                                                                                                                                                                                                                                                                                                                             Private bedroom in a cute little home situated in the coveted Garden Acres neighborhood in Bryan. The bedroom has its own private access and its own private bathroom.        Bryan  https://www.airbnb.com/rooms/11839729?location=College%20Station%2C%20TX\n",
       "3        Friendly Private Room in َQuiet Neighborhood                                                                                                                                                                                                                                     This is a beautiful bedroom with a queen size bed and closet. We do not have pets and the house is always clean. The bathroom is shared and supplies such as towels and shampoo are available. We are only some miles from Downtown, TCU, TCC, and Stockyards.   Fort Worth           https://www.airbnb.com/rooms/18977363?location=Cleburne%2C%20TX\n",
       "4           A Cozy Home with a Beautiful Nature Views                                               This home is on the North Side of San Antonio, 3 minutes away from a great golfing course and a JW Marriott Resort and Spa. This is a great stopping place for a family and comes with all amenities from cable, internet to a laundry room and 2 bathrooms. This house is against a green belt so you can enjoy the back yard and nature.This area is safe and my neighbors are also great! Hope you enjoy your stay and more so enjoy San Antonio!  San Antonio             https://www.airbnb.com/rooms/19190311?location=Cibolo%2C%20TX"
      ]
     },
     "metadata": {},
     "output_type": "display_data"
    }
   ],
   "source": [
    "import csv\n",
    "import pandas as pd\n",
    "query = input()\n",
    "tokens = nltk.word_tokenize(query)\n",
    "query_tokens = [nltk.stem.PorterStemmer().stem(token) for token in tokens if token not in stopwords.words('english') if token not in \".,'()$\"]\n",
    "\n",
    "vocabulary = open('vocabulary.txt', 'r', encoding = 'utf-8') \n",
    "L1 = eval(vocabulary.read())\n",
    "inverted_index = open('inverted_index.txt', 'r', encoding = 'utf-8')  \n",
    "L2 = eval(inverted_index.read())\n",
    "        \n",
    "term_ids = [L1[token] for token in query_tokens if token in L1]\n",
    "search_results = [L2[idx] for idx in term_ids if idx in L2]  \n",
    "\n",
    "new_list = [set(list_) for list_ in search_results]\n",
    "intersect = set.intersection(*new_list)\n",
    "\n",
    "col_names = [\"average_rate_per_night\",\"bedrooms_count\",\"city\",\"date_of_listing\",\"description\",\"latitude\",\"longitude\",\"title\",\"url\"]\n",
    "df = pd.DataFrame(columns = col_names)\n",
    "\n",
    "for j, doc in enumerate(intersect):\n",
    "    with open(r'doc\\{}'.format(doc), 'r',encoding=\"utf-8\") as file:\n",
    "        \n",
    "        csv_reader = csv.reader(file, delimiter = '\\t')\n",
    "        for line in csv_reader:\n",
    "            line = line[1:]\n",
    "            for i, field in enumerate(line):\n",
    "                df.loc[j, col_names[i]] = field \n",
    "        \n",
    "pd.set_option('max_colwidth',500)\n",
    "display(df[['title', 'description', 'city', 'url']])"
   ]
  }
 ],
 "metadata": {
  "kernelspec": {
   "display_name": "Python 3",
   "language": "python",
   "name": "python3"
  },
  "language_info": {
   "codemirror_mode": {
    "name": "ipython",
    "version": 3
   },
   "file_extension": ".py",
   "mimetype": "text/x-python",
   "name": "python",
   "nbconvert_exporter": "python",
   "pygments_lexer": "ipython3",
   "version": "3.6.5"
  }
 },
 "nbformat": 4,
 "nbformat_minor": 2
}
