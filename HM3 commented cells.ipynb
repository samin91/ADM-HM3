{
 "cells": [
  {
   "cell_type": "markdown",
   "metadata": {},
   "source": [
    "# Homework 3 - Find the perfect place to stay in Texas!"
   ]
  },
  {
   "cell_type": "code",
   "execution_count": 1,
   "metadata": {},
   "outputs": [],
   "source": [
    "import csv\n",
    "import pandas as pd\n",
    "from os import listdir\n",
    "from os.path import isfile, join\n",
    "import nltk\n",
    "from nltk.corpus import stopwords\n",
    "from nltk.stem import PorterStemmer \n",
    "from nltk.tokenize import sent_tokenize, word_tokenize\n",
    "import math\n",
    "import numpy as np\n",
    "import scipy\n",
    "import heapq\n",
    "from tqdm import tqdm"
   ]
  },
  {
   "cell_type": "code",
   "execution_count": 2,
   "metadata": {
    "scrolled": true
   },
   "outputs": [],
   "source": [
    "with open('Airbnb_Texas_Rentals.csv','r',encoding=\"utf8\") as csv_file: #opening the csv file in read mode\n",
    "    csv_reader=csv.reader(csv_file)  #csv reader allows us to iterate through its lines\n",
    "    \n",
    "    with open('Airbnb_Texas_Rentals.tsv','w',encoding=\"utf8\") as new_file:  #opening a new tsv file (still empty)\n",
    "        csv_writer=csv.writer(new_file,delimiter='\\t')  #writer allows us to write rows, and we separate the fields in these\n",
    "                                                        #rows with the tab delimiter\n",
    "        for line in csv_reader: #we iterate through the reader's lines \n",
    "               csv_writer.writerow(line[1:]) #write those lines (except the first element that is the index) on the new tsv\n",
    "\n",
    "with open('Airbnb_Texas_Rentals.tsv','r',encoding=\"utf8\") as all_files: #now we want all the documents so we first open the big tsv\n",
    "    for i, row in enumerate(all_files):  #iterating through the lanes and keeping track of the order of the operation\n",
    "        if i > 0:   #skipping the first line (the header)\n",
    "            if row != '\\n': #the rows were separated by blank spaces in the form of '\\n' so we skip them\n",
    "                with open('doc\\doc_' + str(int((i-(i/2)))) + '.tsv','w',encoding=\"utf8\") as new_files: #opening a new tsv for every line, (the str(int((i-(i/2))) is to keep the number of the docs 0,1,2 ecc instead of 0, 2, 4...)\n",
    "                    new_files.write(row) #writing"
   ]
  },
  {
   "cell_type": "code",
   "execution_count": 3,
   "metadata": {},
   "outputs": [],
   "source": [
    "def save_dict_to_file(dic, file): #defining a function to save files right away\n",
    "    f = open('{}.txt'.format(file), 'w',encoding=\"utf8\") #open a new file in write mode (empty)\n",
    "    f.write(str(dic)) #write in it what we need (it will always be a dictionary, hence 'dic')\n",
    "    f.close() #closing it"
   ]
  },
  {
   "cell_type": "code",
   "execution_count": 5,
   "metadata": {},
   "outputs": [
    {
     "name": "stderr",
     "output_type": "stream",
     "text": [
      "100%|████████████████████████████████████████████████████████████████████████████| 18259/18259 [07:32<00:00, 40.39it/s]\n"
     ]
    }
   ],
   "source": [
    "docpaths = [f for f in listdir(\"doc\") if isfile(join(\"doc\", f))] #joining the paths for the tsv documents in the directory\n",
    "\n",
    "documentlist = {} #this will be for keeping track of the words in the docs {doc_i : ['house, 'garden'.....]}\n",
    "vocabulary = {} #this will be useful to keep track of the word and its id {'house':1, 'garden':2}\n",
    "inverted_index = {} #this is the inv idx: {1: [doc_1, doc_2, ....], 2: [doc_2, doc_6, ....]}\n",
    "indexOfWord = 0 #this is used to give the id to the words in the vocabulary\n",
    "for doc in docpaths: #for every document in the list of documents...\n",
    "    with open('doc\\{}'.format(doc), 'r',encoding=\"utf8\") as file: #open the doc in read mode\n",
    "        lines = file.readlines() #read its lines\n",
    "        if len(lines) > 0 : #leaving out all the empty lines\n",
    "            document = lines[0] #its a list of only one element, so we take that as a string\n",
    "            cols = document.replace('\\\\n',' ').split('\\t') #cleaning\n",
    "            \n",
    "            to_tokenize = cols[4] + cols[7] #taking description and title to tokenize\n",
    "            tokens = nltk.word_tokenize(to_tokenize) #tokenization\n",
    "            filtered_words = [nltk.stem.PorterStemmer().stem(word) for word in tokens if word not in nltk.corpus.stopwords.words('english') and word not in \".,'()\"]\n",
    "            # removing stopwords, special characters, stemming\n",
    "            documentlist[doc] = filtered_words #creating a document list: for every document we will have the tokenized words in title and description\n",
    "            \n",
    "            for w in filtered_words: \n",
    "                if w not in vocabulary: #creating the vocabulary\n",
    "                    indexOfWord += 1    #assigning an index that ranges from 1 to whatever\n",
    "                    vocabulary[w] = indexOfWord  #for every index we give the word\n",
    "                \n",
    "                if vocabulary[w] not in inverted_index: #creating the inverted index\n",
    "                    temp = []  #creating a list so we can append the documents that have that word\n",
    "                    temp.append(doc)  #appending the first doc\n",
    "                    inverted_index[vocabulary[w]] = temp #creating the index key and giving them the value\n",
    "                elif doc not in inverted_index[vocabulary[w]]: #if the key was already created\n",
    "                    inverted_index[vocabulary[w]].append(doc)  \n",
    "\n",
    "#saving the files\n",
    "save_dict_to_file(inverted_index,\"inverted_index\")\n",
    "save_dict_to_file(vocabulary,\"vocabulary\")\n",
    "save_dict_to_file(documentlist,\"documentlist\")"
   ]
  },
  {
   "cell_type": "code",
   "execution_count": 7,
   "metadata": {},
   "outputs": [
    {
     "data": {
      "text/plain": [
       "18259"
      ]
     },
     "execution_count": 7,
     "metadata": {},
     "output_type": "execute_result"
    }
   ],
   "source": [
    "len(docpaths)"
   ]
  },
  {
   "cell_type": "code",
   "execution_count": 24,
   "metadata": {},
   "outputs": [
    {
     "name": "stdout",
     "output_type": "stream",
     "text": [
      "roof dog\n"
     ]
    },
    {
     "data": {
      "text/html": [
       "<style  type=\"text/css\" >\n",
       "    #T_7c3522e2_ecc2_11e8_b738_8e64684d35d4 .row_heading, .blank {\n",
       "          display: none;;\n",
       "    }</style>  \n",
       "<table id=\"T_7c3522e2_ecc2_11e8_b738_8e64684d35d4\" > \n",
       "<thead>    <tr> \n",
       "        <th class=\"blank level0\" ></th> \n",
       "        <th class=\"col_heading level0 col0\" >title</th> \n",
       "        <th class=\"col_heading level0 col1\" >description</th> \n",
       "        <th class=\"col_heading level0 col2\" >city</th> \n",
       "        <th class=\"col_heading level0 col3\" >url</th> \n",
       "    </tr></thead> \n",
       "<tbody>    <tr> \n",
       "        <th id=\"T_7c3522e2_ecc2_11e8_b738_8e64684d35d4level0_row0\" class=\"row_heading level0 row0\" >0</th> \n",
       "        <td id=\"T_7c3522e2_ecc2_11e8_b738_8e64684d35d4row0_col0\" class=\"data row0 col0\" >Cozy furnished home on the EastSide!</td> \n",
       "        <td id=\"T_7c3522e2_ecc2_11e8_b738_8e64684d35d4row0_col1\" class=\"data row0 col1\" >Welcome to our home!\\n\\nAn eclectic combination of hip and modern all under one roof.\\n\\nCool Amenities like Retro Lounge, Super “fly” poolscape consisting of three pools and intriguing Aquatic Wall water feature, Dog Park, outdoor grilling stations, yoga studio, and fitness center.\\n\\nThe Metro Train is connected to the apartment building and will take you directly to downtown in 8 minutes or less depending on your drop off location. So convenient, no need for a car or anything!</td> \n",
       "        <td id=\"T_7c3522e2_ecc2_11e8_b738_8e64684d35d4row0_col2\" class=\"data row0 col2\" >Austin</td> \n",
       "        <td id=\"T_7c3522e2_ecc2_11e8_b738_8e64684d35d4row0_col3\" class=\"data row0 col3\" >https://www.airbnb.com/rooms/18795604?location=Cedar%20Park%2C%20TX</td> \n",
       "    </tr>    <tr> \n",
       "        <th id=\"T_7c3522e2_ecc2_11e8_b738_8e64684d35d4level0_row1\" class=\"row_heading level0 row1\" >1</th> \n",
       "        <td id=\"T_7c3522e2_ecc2_11e8_b738_8e64684d35d4row1_col0\" class=\"data row1 col0\" >Palm Oaks Ranch 1521RP</td> \n",
       "        <td id=\"T_7c3522e2_ecc2_11e8_b738_8e64684d35d4row1_col1\" class=\"data row1 col1\" >Welcome to Palms Oaks Ranch! This gorgeous two-story 4 bedroom/3 bath Mediterranean style home on 18 acres over looks a private lake. This property is surrounded by live oak trees with horse corrals, riding arena, stables, tack room and an ac dog run. The exterior of the home is stucco with a spanish style roof. Flooring is satillo tile with marble in the bathrooms. The kitchen features a gas cook top, dishwasher, stainless teal appliances and granite counter tops. The open floor plan features cedar ceilings and a fabulous staircase. Several large arch windows allow for plenty of light. Three of the bedrooms are located upstairs, with the master having an ensuite, king bed and a balcony overlooking the lake. The second bedroom has a king and the third a queen. The fourth bedroom is located downstairs and also has a king size bed. This property offers everything you need for a relaxing weekend away from it all. Roam the 18 acres watching the wildlife or fish into the sunset in the lake. This home is located just a 3 minute drive to Paradise Key. Paradise Key offers a double boat dock, Valet boat barn and a dockside bar and grill. This is a great spot for Weddings, special occasion parties or a weekend away. Wedding venue fee is $500. For a virtual tour click here</td> \n",
       "        <td id=\"T_7c3522e2_ecc2_11e8_b738_8e64684d35d4row1_col2\" class=\"data row1 col2\" >Rockport</td> \n",
       "        <td id=\"T_7c3522e2_ecc2_11e8_b738_8e64684d35d4row1_col3\" class=\"data row1 col3\" >https://www.airbnb.com/rooms/12009441?location=Bayside%2C%20TX</td> \n",
       "    </tr>    <tr> \n",
       "        <th id=\"T_7c3522e2_ecc2_11e8_b738_8e64684d35d4level0_row2\" class=\"row_heading level0 row2\" >2</th> \n",
       "        <td id=\"T_7c3522e2_ecc2_11e8_b738_8e64684d35d4row2_col0\" class=\"data row2 col0\" >Furnished EastSide Flat with a Spacious Balcony.</td> \n",
       "        <td id=\"T_7c3522e2_ecc2_11e8_b738_8e64684d35d4row2_col1\" class=\"data row2 col1\" >Welcome to our home.\\n\\nLocated on the East Side of Austin just steps from Austin’s newest rail stop, Platform is an eclectic combination of hip and modern all under one roof. \\n\\nComplete with a Retro Game Lounge, super “fly” poolscape consisting of three pools and intriguing Aquatic Wall water feature, Dog Park, outdoor grilling stations for sizzling social hours, yoga studio, fitness and conditioning center, and so much more. \\n\\nGet in your groove and get booking.</td> \n",
       "        <td id=\"T_7c3522e2_ecc2_11e8_b738_8e64684d35d4row2_col2\" class=\"data row2 col2\" >Austin</td> \n",
       "        <td id=\"T_7c3522e2_ecc2_11e8_b738_8e64684d35d4row2_col3\" class=\"data row2 col3\" >https://www.airbnb.com/rooms/18123352?location=Cedar%20Park%2C%20TX</td> \n",
       "    </tr>    <tr> \n",
       "        <th id=\"T_7c3522e2_ecc2_11e8_b738_8e64684d35d4level0_row3\" class=\"row_heading level0 row3\" >3</th> \n",
       "        <td id=\"T_7c3522e2_ecc2_11e8_b738_8e64684d35d4row3_col0\" class=\"data row3 col0\" >Comfy Flat on the EastSide + a Balcony & by Metro!</td> \n",
       "        <td id=\"T_7c3522e2_ecc2_11e8_b738_8e64684d35d4row3_col1\" class=\"data row3 col1\" >Welcome :)\\n\\nAn eclectic combination of hip and modern all under one roof.\\n\\nCool Amenities like Retro Lounge, Super “fly” poolscape consisting of three pools and intriguing Aquatic Wall water feature, Dog Park, outdoor grilling stations, yoga studio, and fitness center.\\n\\nThe Metro Train is connected to the apartment building and will take you directly to downtown in 8 minutes or less depending on your drop off location. So convenient, no need for a car or anything!</td> \n",
       "        <td id=\"T_7c3522e2_ecc2_11e8_b738_8e64684d35d4row3_col2\" class=\"data row3 col2\" >Austin</td> \n",
       "        <td id=\"T_7c3522e2_ecc2_11e8_b738_8e64684d35d4row3_col3\" class=\"data row3 col3\" >https://www.airbnb.com/rooms/18795759?location=Cedar%20Park%2C%20TX</td> \n",
       "    </tr></tbody> \n",
       "</table> "
      ],
      "text/plain": [
       "<pandas.io.formats.style.Styler at 0x1904c058208>"
      ]
     },
     "metadata": {},
     "output_type": "display_data"
    }
   ],
   "source": [
    "query = input() #taking the user query\n",
    "tokens = nltk.word_tokenize(query) #tokenizing the query\n",
    "query_tokens = [nltk.stem.PorterStemmer().stem(token) for token in tokens if token not in stopwords.words('english') if token not in \".,'()\"]\n",
    "#removing stopwords, special characters, stemming\n",
    "\n",
    "vocabulary = open('vocabulary.txt', 'r', encoding = 'utf-8') #opening the vocabulary in read mode\n",
    "vocabulary = eval(vocabulary.read()) #if we dont do eval the file will be considered a string. eval 'understands' what type of object it is\n",
    "\n",
    "inverted_index = open('inverted_index.txt', 'r', encoding = 'utf-8')  #same here\n",
    "inverted_index = eval(inverted_index.read())\n",
    "        \n",
    "term_ids = [vocabulary[token] for token in query_tokens if token in vocabulary] #taking the ids of the query tokenized words\n",
    "search_results = [inverted_index[i] for i in term_ids if i in inverted_index] #taking the documents in the inv idx for that id\n",
    "\n",
    "new_list = [set(list_) for list_ in search_results] #removing duplicates and preparing for intersection\n",
    "intersect = set.intersection(*new_list) #gives us the documents that have all the words of the query\n",
    "\n",
    "col_names = [\"average_rate_per_night\",\"bedrooms_count\",\"city\",\"date_of_listing\",\"description\",\"latitude\",\"longitude\",\"title\",\"url\"]\n",
    "#making a list for the column names\n",
    "df = pd.DataFrame(columns = col_names) #creating an empty df with the list cerated before\n",
    "\n",
    "for j, doc in enumerate(intersect): #iterating through the intersection list and keeping track of the order\n",
    "    with open(r'doc\\{}'.format(doc), 'r',encoding=\"utf-8\") as file: #opening the files in read mode\n",
    "        csv_reader = csv.reader(file, delimiter = '\\t') #csv.reader to iterate\n",
    "        \n",
    "        for line in csv_reader: #iterating through the lines. 1 line = the whole document\n",
    "            for i, field in enumerate(line): #field = tab separated field\n",
    "                df.loc[j, col_names[i]] = field #giving to [row j ,col i] the value of the field\n",
    "        \n",
    "pd.set_option('max_colwidth',500) #making the rows more readabale(bigger)\n",
    "display(df[['title', 'description', 'city', 'url']].style.set_table_styles([ {'selector': '.row_heading, .blank', 'props': [('display', 'none;')]}]))\n",
    "#displaying the df without the index"
   ]
  },
  {
   "cell_type": "code",
   "execution_count": null,
   "metadata": {},
   "outputs": [],
   "source": [
    "term_ids = [vocabulary[token] for token in query_tokens if token in vocabulary]"
   ]
  },
  {
   "cell_type": "code",
   "execution_count": 8,
   "metadata": {},
   "outputs": [],
   "source": [
    "#TF = how may times the word is repeated within the i-th document divided by its length (term frequency)\n",
    "def tf(word, document):\n",
    "    return document.count(word) / len(document) \n",
    "\n",
    "#this is to have the number of times the word is repeated in one document\n",
    "def document_frequency(word):\n",
    "    if word in vocabulary:\n",
    "        term_id = vocabulary[word]\n",
    "    return len(inverted_index[term_id])\n",
    "\n",
    "#IDF(word) = loge(Total Number Of Documents / Number Of Documents with term 'word' in it)\n",
    "def idf(word):\n",
    "    return math.log(len(docpaths) / document_frequency(word))\n",
    "\n",
    "#TFIDF = TF * IDF\n",
    "def tfidf(word, document):\n",
    "    return tf(word, document) * idf(word)"
   ]
  },
  {
   "cell_type": "code",
   "execution_count": 10,
   "metadata": {},
   "outputs": [
    {
     "name": "stderr",
     "output_type": "stream",
     "text": [
      "100%|███████████████████████████████████████████████████████████████████████████| 18259/18259 [00:38<00:00, 473.71it/s]\n"
     ]
    }
   ],
   "source": [
    "vocabulary = open('vocabulary.txt', 'r', encoding = 'utf-8')\n",
    "vocabulary = eval(vocabulary.read()) \n",
    "\n",
    "inverted_index = open('inverted_index.txt', 'r', encoding = 'utf-8') \n",
    "inverted_index = eval(inverted_index.read())\n",
    "\n",
    "document_list = open('documentlist.txt', 'r', encoding = 'utf-8')\n",
    "file = eval(document_list.read())\n",
    "\n",
    "new_inverted_index = {}\n",
    "for key,doc in tqdm(documentlist.items()): #taking the keys (doc_i) and the values \n",
    "    for w in doc:#w = word in the doc, doc = ['house', 'garden', ....]\n",
    "        score = tfidf(w,doc) #tf idf of the word in the doc\n",
    "        w_index = (key,score) #tuple of key (doc_i), and score (tf/idf)\n",
    "        if vocabulary[w] not in new_inverted_index: #if the id of the word is not in the new inv_idx\n",
    "            temp = [] #initializing empty list\n",
    "            temp.append(w_index) #appending the tuple\n",
    "            new_inverted_index[vocabulary[w]] = temp #giving to the newly created key (that is the id), the list just created [(doc_i, tf/idf), (doc_i+1, tf/idf)]\n",
    "        elif doc not in new_inverted_index[vocabulary[w]]: #if the doc is not already in that list: \n",
    "            new_inverted_index[vocabulary[w]].append(w_index) #append to the list the new tuple\n",
    "\n",
    "#removing duplicates\n",
    "for key in new_inverted_index:\n",
    "    new_inverted_index[key] = list(set(new_inverted_index[key]))\n",
    "#saving\n",
    "save_dict_to_file(new_inverted_index,\"inverted_index_tfidf\")"
   ]
  },
  {
   "cell_type": "code",
   "execution_count": 15,
   "metadata": {},
   "outputs": [
    {
     "name": "stdout",
     "output_type": "stream",
     "text": [
      "roof dog\n"
     ]
    }
   ],
   "source": [
    "query = input() #input query\n",
    "tokens = nltk.word_tokenize(query) #tokenization\n",
    "query_tokens = [nltk.stem.PorterStemmer().stem(token) for token in tokens if token not in stopwords.words('english') if token not in \".,'()\"]\n",
    "#removing stopwords, special characters, stemming\n",
    "\n",
    "tfidf_query_array = [] \n",
    "for w in query_tokens: #scores \n",
    "    score = 1/math.sqrt(len(query_tokens)) #score for the words the 1/math.sqrt(len(query_tokens)) is to normalize the scores\n",
    "    tfidf_query_array.append(score) #appending to a list for new score\n",
    "#print(tfidf_query_array)"
   ]
  },
  {
   "cell_type": "code",
   "execution_count": 16,
   "metadata": {
    "scrolled": true
   },
   "outputs": [
    {
     "name": "stdout",
     "output_type": "stream",
     "text": [
      "[('doc_7428.tsv', [0.11172773927519879, 0.06463152033532973]), ('doc_8919.tsv', [0.09969552119940815, 0.05767120276075577]), ('doc_14141.tsv', [0.04050130548725956, 0.02342892612155703]), ('doc_6904.tsv', [0.10286045838034173, 0.05950203459443055])]\n"
     ]
    }
   ],
   "source": [
    "inverted_index_tfidf = open(\"inverted_index_tfidf.txt\", 'r', encoding = 'utf-8') #opening the new invd_idx and evaluating \n",
    "inverted_index_tfidf = eval(inverted_index_tfidf.read())\n",
    "\n",
    "\n",
    "term_ids = [vocabulary[token] for token in query_tokens if token in vocabulary] #terms ids of the words of the query\n",
    "search_results = [inverted_index_tfidf[idx] for idx in term_ids if idx in inverted_index_tfidf] #list of tuples (doc_i, score) for that id\n",
    "\n",
    "cos_arrays = {} #dictionary for the cosine sim values for the docs\n",
    "for list_ in search_results: #for every list of tuple (doc_i, score) for every id\n",
    "    for tuple_ in list_: #for every tuple:\n",
    "        if tuple_[0] not in cos_arrays: #if the doc is not in that tuple\n",
    "            temp = []\n",
    "            temp.append(tuple_[1]) #append to the newly created list the tf/idf\n",
    "            cos_arrays[tuple_[0]] = temp #create the key (doc_i) and give the values as the list of tf/idfs\n",
    "        else:\n",
    "            cos_arrays[tuple_[0]].append(tuple_[1]) #if the key is already there append the value to the list\n",
    "\n",
    "final = [(key,cos_arrays[key]) for key in cos_arrays if len(cos_arrays[key]) == len(term_ids)] #take the documents that have all of the words\n",
    "print(final)"
   ]
  },
  {
   "cell_type": "code",
   "execution_count": 17,
   "metadata": {},
   "outputs": [
    {
     "name": "stdout",
     "output_type": "stream",
     "text": [
      "{'doc_7428.tsv': 0.9661433851761906, 'doc_8919.tsv': 0.9661433851761907, 'doc_14141.tsv': 0.9661433851761906, 'doc_6904.tsv': 0.9661433851761907}\n"
     ]
    }
   ],
   "source": [
    "doc_sim = {} #dic for {doc_i : similarity_score, ...}\n",
    "for tuple_ in final: #take the tuple in final (the values are the list of the tf/idf scores)\n",
    "    sim = 1 - (scipy.spatial.distance.cosine(np.array(tfidf_query_array) , np.array(tuple_[1]))) #use this to compute the the cos similarity\n",
    "    doc_sim[tuple_[0]] =  sim #key = doc_i, value = similarity\n",
    "print(doc_sim)"
   ]
  },
  {
   "cell_type": "code",
   "execution_count": 18,
   "metadata": {},
   "outputs": [
    {
     "name": "stdout",
     "output_type": "stream",
     "text": [
      "[('doc_6904.tsv', 0.9661433851761907), ('doc_8919.tsv', 0.9661433851761907), ('doc_14141.tsv', 0.9661433851761906), ('doc_7428.tsv', 0.9661433851761906)]\n"
     ]
    },
    {
     "data": {
      "text/html": [
       "<style  type=\"text/css\" >\n",
       "    #T_ff5d0258_ecc1_11e8_afa9_8e64684d35d4 .row_heading, .blank {\n",
       "          display: none;;\n",
       "    }</style>  \n",
       "<table id=\"T_ff5d0258_ecc1_11e8_afa9_8e64684d35d4\" > \n",
       "<thead>    <tr> \n",
       "        <th class=\"blank level0\" ></th> \n",
       "        <th class=\"col_heading level0 col0\" >title</th> \n",
       "        <th class=\"col_heading level0 col1\" >description</th> \n",
       "        <th class=\"col_heading level0 col2\" >city</th> \n",
       "        <th class=\"col_heading level0 col3\" >url</th> \n",
       "        <th class=\"col_heading level0 col4\" >similarity</th> \n",
       "    </tr></thead> \n",
       "<tbody>    <tr> \n",
       "        <th id=\"T_ff5d0258_ecc1_11e8_afa9_8e64684d35d4level0_row0\" class=\"row_heading level0 row0\" >0</th> \n",
       "        <td id=\"T_ff5d0258_ecc1_11e8_afa9_8e64684d35d4row0_col0\" class=\"data row0 col0\" >Cozy furnished home on the EastSide!</td> \n",
       "        <td id=\"T_ff5d0258_ecc1_11e8_afa9_8e64684d35d4row0_col1\" class=\"data row0 col1\" >Welcome to our home!\\n\\nAn eclectic combination of hip and modern all under one roof.\\n\\nCool Amenities like Retro Lounge, Super “fly” poolscape consisting of three pools and intriguing Aquatic Wall water feature, Dog Park, outdoor grilling stations, yoga studio, and fitness center.\\n\\nThe Metro Train is connected to the apartment building and will take you directly to downtown in 8 minutes or less depending on your drop off location. So convenient, no need for a car or anything!</td> \n",
       "        <td id=\"T_ff5d0258_ecc1_11e8_afa9_8e64684d35d4row0_col2\" class=\"data row0 col2\" >Austin</td> \n",
       "        <td id=\"T_ff5d0258_ecc1_11e8_afa9_8e64684d35d4row0_col3\" class=\"data row0 col3\" >https://www.airbnb.com/rooms/18795604?location=Cedar%20Park%2C%20TX</td> \n",
       "        <td id=\"T_ff5d0258_ecc1_11e8_afa9_8e64684d35d4row0_col4\" class=\"data row0 col4\" >0.966143</td> \n",
       "    </tr>    <tr> \n",
       "        <th id=\"T_ff5d0258_ecc1_11e8_afa9_8e64684d35d4level0_row1\" class=\"row_heading level0 row1\" >1</th> \n",
       "        <td id=\"T_ff5d0258_ecc1_11e8_afa9_8e64684d35d4row1_col0\" class=\"data row1 col0\" >Comfy Flat on the EastSide + a Balcony & by Metro!</td> \n",
       "        <td id=\"T_ff5d0258_ecc1_11e8_afa9_8e64684d35d4row1_col1\" class=\"data row1 col1\" >Welcome :)\\n\\nAn eclectic combination of hip and modern all under one roof.\\n\\nCool Amenities like Retro Lounge, Super “fly” poolscape consisting of three pools and intriguing Aquatic Wall water feature, Dog Park, outdoor grilling stations, yoga studio, and fitness center.\\n\\nThe Metro Train is connected to the apartment building and will take you directly to downtown in 8 minutes or less depending on your drop off location. So convenient, no need for a car or anything!</td> \n",
       "        <td id=\"T_ff5d0258_ecc1_11e8_afa9_8e64684d35d4row1_col2\" class=\"data row1 col2\" >Austin</td> \n",
       "        <td id=\"T_ff5d0258_ecc1_11e8_afa9_8e64684d35d4row1_col3\" class=\"data row1 col3\" >https://www.airbnb.com/rooms/18795759?location=Cedar%20Park%2C%20TX</td> \n",
       "        <td id=\"T_ff5d0258_ecc1_11e8_afa9_8e64684d35d4row1_col4\" class=\"data row1 col4\" >0.966143</td> \n",
       "    </tr>    <tr> \n",
       "        <th id=\"T_ff5d0258_ecc1_11e8_afa9_8e64684d35d4level0_row2\" class=\"row_heading level0 row2\" >2</th> \n",
       "        <td id=\"T_ff5d0258_ecc1_11e8_afa9_8e64684d35d4row2_col0\" class=\"data row2 col0\" >Palm Oaks Ranch 1521RP</td> \n",
       "        <td id=\"T_ff5d0258_ecc1_11e8_afa9_8e64684d35d4row2_col1\" class=\"data row2 col1\" >Welcome to Palms Oaks Ranch! This gorgeous two-story 4 bedroom/3 bath Mediterranean style home on 18 acres over looks a private lake. This property is surrounded by live oak trees with horse corrals, riding arena, stables, tack room and an ac dog run. The exterior of the home is stucco with a spanish style roof. Flooring is satillo tile with marble in the bathrooms. The kitchen features a gas cook top, dishwasher, stainless teal appliances and granite counter tops. The open floor plan features cedar ceilings and a fabulous staircase. Several large arch windows allow for plenty of light. Three of the bedrooms are located upstairs, with the master having an ensuite, king bed and a balcony overlooking the lake. The second bedroom has a king and the third a queen. The fourth bedroom is located downstairs and also has a king size bed. This property offers everything you need for a relaxing weekend away from it all. Roam the 18 acres watching the wildlife or fish into the sunset in the lake. This home is located just a 3 minute drive to Paradise Key. Paradise Key offers a double boat dock, Valet boat barn and a dockside bar and grill. This is a great spot for Weddings, special occasion parties or a weekend away. Wedding venue fee is $500. For a virtual tour click here</td> \n",
       "        <td id=\"T_ff5d0258_ecc1_11e8_afa9_8e64684d35d4row2_col2\" class=\"data row2 col2\" >Rockport</td> \n",
       "        <td id=\"T_ff5d0258_ecc1_11e8_afa9_8e64684d35d4row2_col3\" class=\"data row2 col3\" >https://www.airbnb.com/rooms/12009441?location=Bayside%2C%20TX</td> \n",
       "        <td id=\"T_ff5d0258_ecc1_11e8_afa9_8e64684d35d4row2_col4\" class=\"data row2 col4\" >0.966143</td> \n",
       "    </tr>    <tr> \n",
       "        <th id=\"T_ff5d0258_ecc1_11e8_afa9_8e64684d35d4level0_row3\" class=\"row_heading level0 row3\" >3</th> \n",
       "        <td id=\"T_ff5d0258_ecc1_11e8_afa9_8e64684d35d4row3_col0\" class=\"data row3 col0\" >Furnished EastSide Flat with a Spacious Balcony.</td> \n",
       "        <td id=\"T_ff5d0258_ecc1_11e8_afa9_8e64684d35d4row3_col1\" class=\"data row3 col1\" >Welcome to our home.\\n\\nLocated on the East Side of Austin just steps from Austin’s newest rail stop, Platform is an eclectic combination of hip and modern all under one roof. \\n\\nComplete with a Retro Game Lounge, super “fly” poolscape consisting of three pools and intriguing Aquatic Wall water feature, Dog Park, outdoor grilling stations for sizzling social hours, yoga studio, fitness and conditioning center, and so much more. \\n\\nGet in your groove and get booking.</td> \n",
       "        <td id=\"T_ff5d0258_ecc1_11e8_afa9_8e64684d35d4row3_col2\" class=\"data row3 col2\" >Austin</td> \n",
       "        <td id=\"T_ff5d0258_ecc1_11e8_afa9_8e64684d35d4row3_col3\" class=\"data row3 col3\" >https://www.airbnb.com/rooms/18123352?location=Cedar%20Park%2C%20TX</td> \n",
       "        <td id=\"T_ff5d0258_ecc1_11e8_afa9_8e64684d35d4row3_col4\" class=\"data row3 col4\" >0.966143</td> \n",
       "    </tr></tbody> \n",
       "</table> "
      ],
      "text/plain": [
       "<pandas.io.formats.style.Styler at 0x19050fb23c8>"
      ]
     },
     "metadata": {},
     "output_type": "display_data"
    }
   ],
   "source": [
    "heap = [(-value, key) for key, value in doc_sim.items()] #list that has a tuple ordered by the smallest to the largest\n",
    "largest = heapq.nsmallest(10, heap) #taking the smallest (they will actually be the largest)\n",
    "largest = [(key, -value) for value, key in largest] #re-ordering keys and values\n",
    "print(largest)\n",
    "\n",
    "col_names = [\"average_rate_per_night\",\"bedrooms_count\",\"city\",\"date_of_listing\",\"description\",\"latitude\",\"longitude\",\"title\",\"url\", \"similarity\"]\n",
    "df = pd.DataFrame(columns = col_names)#same as before\n",
    "\n",
    "for j, doc in enumerate(largest): \n",
    "    with open(r'doc\\{}'.format(doc[0]), 'r',encoding=\"utf-8\") as file:\n",
    "        \n",
    "        csv_reader = csv.reader(file, delimiter = '\\t')\n",
    "        for line in csv_reader:\n",
    "            for i, field in enumerate(line):\n",
    "                df.loc[j, col_names[i]] = field\n",
    "                df.loc[j, 'similarity'] = doc[1]\n",
    "        \n",
    "pd.set_option('max_colwidth',500)\n",
    "display(df[['title', 'description', 'city', 'url', 'similarity']].style.set_table_styles([ {'selector': '.row_heading, .blank', 'props': [('display', 'none;')]}]))"
   ]
  },
  {
   "cell_type": "markdown",
   "metadata": {},
   "source": [
    "# step 4"
   ]
  },
  {
   "cell_type": "code",
   "execution_count": 19,
   "metadata": {},
   "outputs": [],
   "source": [
    "df4 = pd.read_csv('Airbnb_Texas_Rentals.csv') #creating dataframe from the csv\n",
    "city_lat_lon = df4.groupby('city').mean()[['latitude','longitude']] #grouping by the city and taking the mean."
   ]
  },
  {
   "cell_type": "code",
   "execution_count": 21,
   "metadata": {},
   "outputs": [
    {
     "name": "stdout",
     "output_type": "stream",
     "text": [
      "Enter city: San Antonio\n",
      "Enter your preferred daily price: 40\n",
      "Enter your preferred number of bedrooms: 2\n"
     ]
    }
   ],
   "source": [
    "user_query_city = input('Enter city: ') #asking the user for the city\n",
    "user_query_price = input('Enter your preferred daily price: ') #asking the user for the price\n",
    "user_query_bedrooms = input('Enter your preferred number of bedrooms: ') #asking the user for the bedrooms"
   ]
  },
  {
   "cell_type": "code",
   "execution_count": 22,
   "metadata": {},
   "outputs": [],
   "source": [
    "def score(doc_price ,doc_bedrooms, doc_latitude, doc_longitude): #defining the new score\n",
    "    global user_query_city, user_query_price , user_query_bedrooms, city_lat_lon #calling the global variables inside the function\n",
    "    \n",
    "    score = 0 #score default\n",
    "    \n",
    "    city = user_query_city #defining the new variable city\n",
    "    price = int(user_query_price .replace('$', '')) #if in the price the user uses a dollar, we take it out\n",
    "    bedrooms = int(user_query_bedrooms) #just the number of bedrooms\n",
    "\n",
    "    if city in city_lat_lon.index: #if the user's city is in the index of the groupby\n",
    "        lat_lon = list(city_lat_lon.loc[city]) #take the long and lat of the row with the name\n",
    "        lat_lon_diff = [float(lat_lon[0]) - float(doc_latitude), float(lat_lon[1]) - float(doc_longitude)] #diffrence between longitude and latitude\n",
    "\n",
    "        if (doc_price[1:].isdigit() == True) and (doc_bedrooms.isdigit() == True): #if price and bedrooms are actual numbers:\n",
    "            if (abs(lat_lon_diff[0]) < 1.5) and (abs(lat_lon_diff[1]) < 1.5): #if the difference is in a max range of 1.5 has full score\n",
    "                score = (1/(1 + (abs(float(doc_price[1:]) - price))) * 0.6) + (1/(1 + (abs(int(doc_bedrooms) - bedrooms)))) * 0.4\n",
    "            else: #if its outside the penalty is score*0.1\n",
    "                score = ((1/(1 + (abs(float(doc_price[1:]) - price))) * 0.6) + (1/(1 + (abs(int(doc_bedrooms) - bedrooms)))) * 0.4) * 0.1\n",
    "                #score is done using the 1/1+x, where x is the difference of prices or bedrooms. This means that if the difference is large the score will be lower\n",
    "    return score\n",
    "    "
   ]
  },
  {
   "cell_type": "code",
   "execution_count": 25,
   "metadata": {},
   "outputs": [
    {
     "name": "stdout",
     "output_type": "stream",
     "text": [
      "$119 1\n",
      "San Antonio\n",
      "[29.501488198655036, -98.50031031977231]\n",
      "[-0.780225875155363, -0.7881218921176156]\n",
      "0.20750000000000002\n",
      "$549 4\n",
      "San Antonio\n",
      "[29.501488198655036, -98.50031031977231]\n",
      "[1.5082104470680342, -1.4029268944314168]\n",
      "0.013450980392156864\n",
      "$131 1\n",
      "San Antonio\n",
      "[29.501488198655036, -98.50031031977231]\n",
      "[-0.7803068948945651, -0.7898950225510077]\n",
      "0.20652173913043478\n",
      "$118 1\n",
      "San Antonio\n",
      "[29.501488198655036, -98.50031031977231]\n",
      "[-0.7801520025914641, -0.7885032559082106]\n",
      "0.20759493670886078\n",
      "{'doc_6904.tsv': 0.20750000000000002, 'doc_14141.tsv': 0.013450980392156864, 'doc_7428.tsv': 0.20652173913043478, 'doc_8919.tsv': 0.20759493670886078}\n"
     ]
    }
   ],
   "source": [
    "step4_idx = {} #dictionary that will map to every document the new score\n",
    "for j, doc in enumerate(intersect): #taking the documents of the intersection in point 3.1\n",
    "    with open(r'doc\\{}'.format(doc), 'r',encoding=\"utf-8\") as file: #opening the tsv files\n",
    "        lines = file.readlines() #reading the files\n",
    "        if len(lines) > 0 : \n",
    "            document = lines[0] #as before...\n",
    "            cols = document.replace('\\n',' ').split('\\t') \n",
    "            doc_price, doc_bedrooms, doc_latitude, doc_longitude = cols[0], cols[1], cols[5], cols[6]\n",
    "            new_score = score(doc_price ,doc_bedrooms, doc_latitude, doc_longitude)\n",
    "            step4_idx[doc] = new_score #key = doc_i, value = new_score\n",
    "            \n",
    "save_dict_to_file(step4_idx,\"step4_idx\")\n",
    "print(step4_idx)"
   ]
  },
  {
   "cell_type": "code",
   "execution_count": 26,
   "metadata": {},
   "outputs": [
    {
     "name": "stdout",
     "output_type": "stream",
     "text": [
      "[('doc_8919.tsv', 0.20759493670886078), ('doc_6904.tsv', 0.20750000000000002), ('doc_7428.tsv', 0.20652173913043478), ('doc_14141.tsv', 0.013450980392156864)]\n"
     ]
    },
    {
     "data": {
      "text/html": [
       "<style  type=\"text/css\" >\n",
       "    #T_9447ce5e_ecc2_11e8_9c98_8e64684d35d4 .row_heading, .blank {\n",
       "          display: none;;\n",
       "    }</style>  \n",
       "<table id=\"T_9447ce5e_ecc2_11e8_9c98_8e64684d35d4\" > \n",
       "<thead>    <tr> \n",
       "        <th class=\"blank level0\" ></th> \n",
       "        <th class=\"col_heading level0 col0\" >title</th> \n",
       "        <th class=\"col_heading level0 col1\" >description</th> \n",
       "        <th class=\"col_heading level0 col2\" >city</th> \n",
       "        <th class=\"col_heading level0 col3\" >url</th> \n",
       "        <th class=\"col_heading level0 col4\" >score</th> \n",
       "    </tr></thead> \n",
       "<tbody>    <tr> \n",
       "        <th id=\"T_9447ce5e_ecc2_11e8_9c98_8e64684d35d4level0_row0\" class=\"row_heading level0 row0\" >0</th> \n",
       "        <td id=\"T_9447ce5e_ecc2_11e8_9c98_8e64684d35d4row0_col0\" class=\"data row0 col0\" >Comfy Flat on the EastSide + a Balcony & by Metro!</td> \n",
       "        <td id=\"T_9447ce5e_ecc2_11e8_9c98_8e64684d35d4row0_col1\" class=\"data row0 col1\" >Welcome :)\\n\\nAn eclectic combination of hip and modern all under one roof.\\n\\nCool Amenities like Retro Lounge, Super “fly” poolscape consisting of three pools and intriguing Aquatic Wall water feature, Dog Park, outdoor grilling stations, yoga studio, and fitness center.\\n\\nThe Metro Train is connected to the apartment building and will take you directly to downtown in 8 minutes or less depending on your drop off location. So convenient, no need for a car or anything!</td> \n",
       "        <td id=\"T_9447ce5e_ecc2_11e8_9c98_8e64684d35d4row0_col2\" class=\"data row0 col2\" >Austin</td> \n",
       "        <td id=\"T_9447ce5e_ecc2_11e8_9c98_8e64684d35d4row0_col3\" class=\"data row0 col3\" >https://www.airbnb.com/rooms/18795759?location=Cedar%20Park%2C%20TX</td> \n",
       "        <td id=\"T_9447ce5e_ecc2_11e8_9c98_8e64684d35d4row0_col4\" class=\"data row0 col4\" >0.207595</td> \n",
       "    </tr>    <tr> \n",
       "        <th id=\"T_9447ce5e_ecc2_11e8_9c98_8e64684d35d4level0_row1\" class=\"row_heading level0 row1\" >1</th> \n",
       "        <td id=\"T_9447ce5e_ecc2_11e8_9c98_8e64684d35d4row1_col0\" class=\"data row1 col0\" >Cozy furnished home on the EastSide!</td> \n",
       "        <td id=\"T_9447ce5e_ecc2_11e8_9c98_8e64684d35d4row1_col1\" class=\"data row1 col1\" >Welcome to our home!\\n\\nAn eclectic combination of hip and modern all under one roof.\\n\\nCool Amenities like Retro Lounge, Super “fly” poolscape consisting of three pools and intriguing Aquatic Wall water feature, Dog Park, outdoor grilling stations, yoga studio, and fitness center.\\n\\nThe Metro Train is connected to the apartment building and will take you directly to downtown in 8 minutes or less depending on your drop off location. So convenient, no need for a car or anything!</td> \n",
       "        <td id=\"T_9447ce5e_ecc2_11e8_9c98_8e64684d35d4row1_col2\" class=\"data row1 col2\" >Austin</td> \n",
       "        <td id=\"T_9447ce5e_ecc2_11e8_9c98_8e64684d35d4row1_col3\" class=\"data row1 col3\" >https://www.airbnb.com/rooms/18795604?location=Cedar%20Park%2C%20TX</td> \n",
       "        <td id=\"T_9447ce5e_ecc2_11e8_9c98_8e64684d35d4row1_col4\" class=\"data row1 col4\" >0.2075</td> \n",
       "    </tr>    <tr> \n",
       "        <th id=\"T_9447ce5e_ecc2_11e8_9c98_8e64684d35d4level0_row2\" class=\"row_heading level0 row2\" >2</th> \n",
       "        <td id=\"T_9447ce5e_ecc2_11e8_9c98_8e64684d35d4row2_col0\" class=\"data row2 col0\" >Furnished EastSide Flat with a Spacious Balcony.</td> \n",
       "        <td id=\"T_9447ce5e_ecc2_11e8_9c98_8e64684d35d4row2_col1\" class=\"data row2 col1\" >Welcome to our home.\\n\\nLocated on the East Side of Austin just steps from Austin’s newest rail stop, Platform is an eclectic combination of hip and modern all under one roof. \\n\\nComplete with a Retro Game Lounge, super “fly” poolscape consisting of three pools and intriguing Aquatic Wall water feature, Dog Park, outdoor grilling stations for sizzling social hours, yoga studio, fitness and conditioning center, and so much more. \\n\\nGet in your groove and get booking.</td> \n",
       "        <td id=\"T_9447ce5e_ecc2_11e8_9c98_8e64684d35d4row2_col2\" class=\"data row2 col2\" >Austin</td> \n",
       "        <td id=\"T_9447ce5e_ecc2_11e8_9c98_8e64684d35d4row2_col3\" class=\"data row2 col3\" >https://www.airbnb.com/rooms/18123352?location=Cedar%20Park%2C%20TX</td> \n",
       "        <td id=\"T_9447ce5e_ecc2_11e8_9c98_8e64684d35d4row2_col4\" class=\"data row2 col4\" >0.206522</td> \n",
       "    </tr>    <tr> \n",
       "        <th id=\"T_9447ce5e_ecc2_11e8_9c98_8e64684d35d4level0_row3\" class=\"row_heading level0 row3\" >3</th> \n",
       "        <td id=\"T_9447ce5e_ecc2_11e8_9c98_8e64684d35d4row3_col0\" class=\"data row3 col0\" >Palm Oaks Ranch 1521RP</td> \n",
       "        <td id=\"T_9447ce5e_ecc2_11e8_9c98_8e64684d35d4row3_col1\" class=\"data row3 col1\" >Welcome to Palms Oaks Ranch! This gorgeous two-story 4 bedroom/3 bath Mediterranean style home on 18 acres over looks a private lake. This property is surrounded by live oak trees with horse corrals, riding arena, stables, tack room and an ac dog run. The exterior of the home is stucco with a spanish style roof. Flooring is satillo tile with marble in the bathrooms. The kitchen features a gas cook top, dishwasher, stainless teal appliances and granite counter tops. The open floor plan features cedar ceilings and a fabulous staircase. Several large arch windows allow for plenty of light. Three of the bedrooms are located upstairs, with the master having an ensuite, king bed and a balcony overlooking the lake. The second bedroom has a king and the third a queen. The fourth bedroom is located downstairs and also has a king size bed. This property offers everything you need for a relaxing weekend away from it all. Roam the 18 acres watching the wildlife or fish into the sunset in the lake. This home is located just a 3 minute drive to Paradise Key. Paradise Key offers a double boat dock, Valet boat barn and a dockside bar and grill. This is a great spot for Weddings, special occasion parties or a weekend away. Wedding venue fee is $500. For a virtual tour click here</td> \n",
       "        <td id=\"T_9447ce5e_ecc2_11e8_9c98_8e64684d35d4row3_col2\" class=\"data row3 col2\" >Rockport</td> \n",
       "        <td id=\"T_9447ce5e_ecc2_11e8_9c98_8e64684d35d4row3_col3\" class=\"data row3 col3\" >https://www.airbnb.com/rooms/12009441?location=Bayside%2C%20TX</td> \n",
       "        <td id=\"T_9447ce5e_ecc2_11e8_9c98_8e64684d35d4row3_col4\" class=\"data row3 col4\" >0.013451</td> \n",
       "    </tr></tbody> \n",
       "</table> "
      ],
      "text/plain": [
       "<pandas.io.formats.style.Styler at 0x1905110ef28>"
      ]
     },
     "metadata": {},
     "output_type": "display_data"
    }
   ],
   "source": [
    "heap = [(-value, key) for key, value in step4_idx.items()] #same as before\n",
    "largest = heapq.nsmallest(5, heap)\n",
    "largest = [(key, -value) for value, key in largest]\n",
    "print(largest)\n",
    "\n",
    "col_names = [\"average_rate_per_night\",\"bedrooms_count\",\"city\",\"date_of_listing\",\"description\",\"latitude\",\"longitude\",\"title\",\"url\", \"score\"]\n",
    "df = pd.DataFrame(columns = col_names)# index = False?\n",
    "\n",
    "for j, doc in enumerate(largest):\n",
    "    with open(r'doc\\{}'.format(doc[0]), 'r',encoding=\"utf-8\") as file:\n",
    "        \n",
    "        csv_reader = csv.reader(file, delimiter = '\\t')\n",
    "        for line in csv_reader:\n",
    "            for i, field in enumerate(line):\n",
    "                df.loc[j, col_names[i]] = field\n",
    "                df.loc[j, 'score'] = doc[1]\n",
    "        \n",
    "pd.set_option('max_colwidth',500)\n",
    "display(df[['title', 'description', 'city', 'url', 'score']].style.set_table_styles([ {'selector': '.row_heading, .blank', 'props': [('display', 'none;')]}]))"
   ]
  },
  {
   "cell_type": "markdown",
   "metadata": {},
   "source": [
    "# junk"
   ]
  },
  {
   "cell_type": "code",
   "execution_count": 6,
   "metadata": {},
   "outputs": [],
   "source": [
    "with open('Airbnb_Texas_Rentals_new.csv','r',encoding=\"utf8\") as csv_file:\n",
    "    csv_reader=csv.reader(csv_file)\n",
    "    \n",
    "    with open('Parametric_search.tsv','w',encoding=\"utf8\") as new_file: \n",
    "        csv_writer=csv.writer(new_file,delimiter='\\t')\n",
    "    \n",
    "        for line in csv_reader:\n",
    "               csv_writer.writerow(line[2:5]) \n",
    "\n",
    "with open('Parametric_search.tsv','r',encoding=\"utf8\") as all_files:\n",
    "    for i, row in enumerate(all_files):\n",
    "        if i > 0 and i < 40:\n",
    "            if row != '\\n':\n",
    "                with open('doc_par_search\\doc_' + str(int((i-(i/2)))) + '.tsv','w',encoding=\"utf8\") as new_files:\n",
    "                    new_files.write(row) "
   ]
  },
  {
   "cell_type": "code",
   "execution_count": 15,
   "metadata": {},
   "outputs": [
    {
     "name": "stdout",
     "output_type": "stream",
     "text": [
      "Enter city, price per night, number of bedrooms: a b c\n"
     ]
    }
   ],
   "source": [
    "docpaths = [f for f in listdir(\"doc_par_search\") if isfile(join(\"doc_par_search\", f))]\n",
    "\n",
    "user_query = input('Enter city, price per night, number of bedrooms: ').split(' ')\n",
    "city, price, bedrooms = user_query[0], user_query[1], user_query[2]\n",
    "\n",
    "\n",
    "\n",
    "par_search_doc_list = {}\n",
    "for doc in docpaths:\n",
    "    with open('doc_par_search\\{}'.format(doc), 'r',encoding=\"utf8\") as file:\n",
    "        lines = file.readlines()\n",
    "        if len(lines) > 0 :\n",
    "            document = lines[0]\n",
    "            cols = document.replace('\\n', '').split('\\t')\n",
    "            #doc_price, doc_bedrooms, doc_city = cols[1], cols[2], cols[3]\n",
    "            #print(doc_price, doc_bedrooms, doc_city)\n",
    "            par_search_doc_list[doc] = list(cols)\n",
    "            \n",
    "save_dict_to_file(par_search_doc_list,\"par_search_doc_list\")"
   ]
  },
  {
   "cell_type": "code",
   "execution_count": null,
   "metadata": {},
   "outputs": [],
   "source": [
    "#par_search_inv_idx = {}\n",
    "#with open('par_search_doc_list.txt', 'r', encoding=\"utf-8\") as file:\n",
    "    data = eval(file.read())\n",
    "    for key,doc in documentlist.items():\n",
    "        for w in doc:\n",
    "            score = tfidf(w,doc,documentlist)\n",
    "            w_index = (key,score)\n",
    "            if vocabulary[w] not in new_inverted_index:\n",
    "                temp = []\n",
    "                temp.append(w_index)\n",
    "                new_inverted_index[vocabulary[w]] = temp\n",
    "            elif doc not in new_inverted_index[vocabulary[w]]:\n",
    "                new_inverted_index[vocabulary[w]].append(w_index)    "
   ]
  },
  {
   "cell_type": "code",
   "execution_count": 15,
   "metadata": {},
   "outputs": [],
   "source": []
  }
 ],
 "metadata": {
  "kernelspec": {
   "display_name": "Python 3",
   "language": "python",
   "name": "python3"
  },
  "language_info": {
   "codemirror_mode": {
    "name": "ipython",
    "version": 3
   },
   "file_extension": ".py",
   "mimetype": "text/x-python",
   "name": "python",
   "nbconvert_exporter": "python",
   "pygments_lexer": "ipython3",
   "version": "3.6.5"
  }
 },
 "nbformat": 4,
 "nbformat_minor": 2
}
