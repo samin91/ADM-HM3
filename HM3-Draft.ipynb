{
 "cells": [
  {
   "cell_type": "code",
   "execution_count": 18,
   "metadata": {},
   "outputs": [],
   "source": [
    "import pandas as pd\n",
    "import csv"
   ]
  },
  {
   "cell_type": "code",
   "execution_count": 19,
   "metadata": {},
   "outputs": [],
   "source": [
    "with open('Airbnb_Texas_Rentals.csv','r',encoding=\"utf8\") as csv_file:\n",
    "    csv_reader=csv.reader(csv_file)\n",
    "    \n",
    "    with open('Airbnb_Texas_Rentals_TSV.tsv','w',encoding=\"utf8\") as new_file: \n",
    "        csv_writer=csv.writer(new_file,delimiter='\\t')\n",
    "    \n",
    "        for line in csv_reader:\n",
    "            csv_writer.writerow(line[1:])  "
   ]
  },
  {
   "cell_type": "code",
   "execution_count": 20,
   "metadata": {},
   "outputs": [],
   "source": [
    "#df = pd.read_csv('Airbnb_Texas_Rentals_TSV.tsv','\\t')"
   ]
  },
  {
   "cell_type": "code",
   "execution_count": 21,
   "metadata": {},
   "outputs": [],
   "source": [
    "with open('Airbnb_Texas_Rentals_TSV.tsv','r',encoding=\"utf8\") as all_files:\n",
    "    for i, row in enumerate(all_files):\n",
    "        if i > 0:\n",
    "            if row != '\\n':\n",
    "                with open('doc_' + str(int((i-(i/2)))) + '.tsv','w',encoding=\"utf8\") as new_files:\n",
    "                     new_files.write(row)"
   ]
  },
  {
   "cell_type": "code",
   "execution_count": null,
   "metadata": {},
   "outputs": [],
   "source": [
    "sub_voc = []\n",
    "for i in range(1,10):\n",
    "    #here i open the file as r+ that means reading and writing\n",
    "    with open('doc_' + str(i) + '.tsv','r+',encoding=\"utf8\") as opened_files:\n",
    "        #i make a reader out of the opened file so i can iterate through the rows of the files\n",
    "        csv_reader = csv.reader(opened_files, delimiter = '\\t')\n",
    "        #i iterate the rows, which are list of words, then through the fields, which contain many words\n",
    "        for line in csv_reader:\n",
    "            for field in line:\n",
    "                #i transform every field into their tokenized version(splits words and punctuation with a comma)\n",
    "                tokens = nltk.word_tokenize(field)\n",
    "                #i call as an object the stemmer. example of stem = playing, plays ---> stem= play(its like the base of the words)\n",
    "                ps = PorterStemmer()\n",
    "                #here i make the conditions to: stem, not including the stepwords(the,on,in,ecc...) and remove punctuation.\n",
    "                tokens = [ps.stem(token) for token in tokens if token not in stopwords.words('english') if token not in \".,'\"]\n",
    "                \n",
    "                sub_voc.append(tokens)\n",
    "\n",
    "# here i use the dict.fromkeys function to create the vocabulary as a dictionary with a set(so i have no repetitions),\n",
    "# from a list comprehension that gets the values from the appeneded sub_voc and puts them in a plain list(i do this to,\n",
    "# turn a list of lists into a plain list). the second argument of dict fromkeys is the default value.\n",
    "vocabulary = dict.fromkeys(set([item for sublist in vocabulary for item in sublist]), 0)"
   ]
  }
 ],
 "metadata": {
  "kernelspec": {
   "display_name": "Python 3",
   "language": "python",
   "name": "python3"
  },
  "language_info": {
   "codemirror_mode": {
    "name": "ipython",
    "version": 3
   },
   "file_extension": ".py",
   "mimetype": "text/x-python",
   "name": "python",
   "nbconvert_exporter": "python",
   "pygments_lexer": "ipython3",
   "version": "3.6.5"
  }
 },
 "nbformat": 4,
 "nbformat_minor": 2
}
